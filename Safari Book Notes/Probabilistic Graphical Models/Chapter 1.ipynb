{
 "cells": [
  {
   "cell_type": "markdown",
   "metadata": {
    "collapsed": true
   },
   "source": [
    "A **graphical model** is essentially a way of representing joint probability distribution over a set of random variables in a compact and intuitive form"
   ]
  },
  {
   "cell_type": "markdown",
   "metadata": {
    "collapsed": true
   },
   "source": [
    "2 main types:\n",
    "1. Directed\n",
    "2. Undirected"
   ]
  },
  {
   "cell_type": "markdown",
   "metadata": {
    "collapsed": true
   },
   "source": [
    "Generally, we use a **Bayesian Network** (directed graph) when there's a causal relationship between 2 RVs"
   ]
  },
  {
   "cell_type": "markdown",
   "metadata": {
    "collapsed": true
   },
   "source": [
    "### Probability Theory"
   ]
  },
  {
   "cell_type": "markdown",
   "metadata": {
    "collapsed": true
   },
   "source": [
    "Probability theory provides us the necessary tools to study uncertainty. "
   ]
  },
  {
   "cell_type": "markdown",
   "metadata": {
    "collapsed": true
   },
   "source": [
    "#### Random Variable"
   ]
  },
  {
   "cell_type": "markdown",
   "metadata": {
    "collapsed": true
   },
   "source": [
    "A RV X is a function that maps a possible set of outcomes $\\Omega$ to some set E, which is represented as follows:\n",
    "$X: \\Omega \\rightarrow E$"
   ]
  },
  {
   "cell_type": "markdown",
   "metadata": {
    "collapsed": true
   },
   "source": [
    "RVs -> either discrete or continuous."
   ]
  },
  {
   "cell_type": "markdown",
   "metadata": {
    "collapsed": true
   },
   "source": [
    "P(X) = Probability Distribution of X = set of values representing how probable each outcome of X is"
   ]
  },
  {
   "cell_type": "markdown",
   "metadata": {
    "collapsed": true
   },
   "source": [
    "**Example:** P(X = good) = 0.3, P(X = average) = 0.5 and P(X = bad) = 0.2 if X represents the quality of food in a restaurant."
   ]
  },
  {
   "cell_type": "markdown",
   "metadata": {
    "collapsed": true
   },
   "source": [
    "#### Independence and conditional independence"
   ]
  },
  {
   "cell_type": "markdown",
   "metadata": {
    "collapsed": true
   },
   "source": [
    "Joint Probability Distribution -> when we look at multiple attributes simultaneously"
   ]
  },
  {
   "cell_type": "markdown",
   "metadata": {},
   "source": [
    "**Example:**"
   ]
  },
  {
   "cell_type": "markdown",
   "metadata": {},
   "source": [
    "P(Q = good, C = high) -> For a restaurant, this represents the probability that food quality is good and cost is high simultaneously"
   ]
  },
  {
   "cell_type": "markdown",
   "metadata": {},
   "source": [
    "#### Conditional Probability Example (using restaurant example)"
   ]
  },
  {
   "cell_type": "markdown",
   "metadata": {},
   "source": [
    "Generally: $P(C = high | L = good) \\neq P(C = high)$ -> L = Location.\n",
    "This means that C and L are not independent RVs"
   ]
  },
  {
   "cell_type": "markdown",
   "metadata": {},
   "source": [
    "#### Independent RVs"
   ]
  },
  {
   "cell_type": "markdown",
   "metadata": {},
   "source": [
    "A set of RVs ${X_1, X_2, ..., X_n}$ are **independent** of each other if:\n",
    "$P(X_1, X_2, ..., X_n) = \\prod_{i=1}^n P(X_i)$"
   ]
  },
  {
   "cell_type": "markdown",
   "metadata": {},
   "source": [
    "#### Conditional Independence"
   ]
  },
  {
   "cell_type": "markdown",
   "metadata": {},
   "source": [
    "Add a new RV, N -> No. of people visiting restaurant. From experience, we say that we know N only depends on C and L.\n",
    "Does Q affect N? Well, Q affects C so indirectly it affects N too.\n",
    "But if we know C is high, the answer is no because we know Q only depends on C and L."
   ]
  },
  {
   "cell_type": "markdown",
   "metadata": {},
   "source": [
    "### Conditional probability distribution (CPD)"
   ]
  },
  {
   "cell_type": "markdown",
   "metadata": {},
   "source": [
    "**Example:**\n",
    "  - Bag contains 3 apples, 5 oranges\n",
    "  - Take 1 out of the bag at a time without replacement\n",
    "  - RVs X_1, X_2 represent the outcomes on the first and second tries\n",
    "  - First try: $P(X_1=apple) = 0.375$ and $P(X_1=orange) = 0.625$\n",
    "  - The probabilities on the second try depend on the first try - so we use conditional probability to represent this\n",
    "  - So, we have the following probabilities on the second try:\n",
    "$P(X_2=apple | X_1=orange) = \\frac{3}{7}$, $P(X_2=orange | X_1=orange) = \\frac{4}{7}$, $P(X_2=apple | X_1=apple) = \\frac{2}{7}$, $P(X_2=orange | X_2=apple) = \\frac{5}{7}$"
   ]
  },
  {
   "cell_type": "markdown",
   "metadata": {},
   "source": [
    "#### Tabular CPD"
   ]
  },
  {
   "cell_type": "markdown",
   "metadata": {},
   "source": [
    "Table containing all the possible combinations of different states of the random variables and the probabilities corresponding to these states."
   ]
  },
  {
   "cell_type": "markdown",
   "metadata": {},
   "source": [
    "### Graph Theory"
   ]
  },
  {
   "cell_type": "markdown",
   "metadata": {},
   "source": [
    "#### Nodes & Edges"
   ]
  },
  {
   "cell_type": "markdown",
   "metadata": {},
   "source": [
    "Foundation of Graph Theory: Euler -> Bridges of Konigsberg"
   ]
  },
  {
   "cell_type": "code",
   "execution_count": 1,
   "metadata": {
    "collapsed": false
   },
   "outputs": [
    {
     "data": {
      "image/jpeg": "[encoded data removed]",
      "text/plain": [
       "<IPython.core.display.Image object>"
      ]
     },
     "execution_count": 1,
     "metadata": {},
     "output_type": "execute_result"
    }
   ],
   "source": [
    "from IPython.display import Image\n",
    "Image('https://www.safaribooksonline.com/library/view/mastering-probabilistic-graphical/9781784394684/graphics/B04016_01_60.jpg')"
   ]
  },
  {
   "cell_type": "markdown",
   "metadata": {},
   "source": [
    "a, b, c, d -> the land and are **vertices**<br>\n",
    "e1-e7 -> 7 bridges connecting the 4 vertices, these are **edges**<br>\n",
    "**Problem:** Walk through the city, crossing each bridge once and only once. Euler proved this is impossible."
   ]
  },
  {
   "cell_type": "markdown",
   "metadata": {},
   "source": [
    "A **graph** $G = (V, E)$ is an ordered pair of finite sets<br>\n",
    "V = set of nodes/vertices\n",
    "$E \\subseteq |V|^2$ = set of edges"
   ]
  },
  {
   "cell_type": "markdown",
   "metadata": {},
   "source": [
    "Order of Graph = |V| = No. of vertices = Cardinality of G<br>\n",
    "|E| = Size of Graph"
   ]
  },
  {
   "cell_type": "markdown",
   "metadata": {},
   "source": [
    "2 Vertices **Adjacent** if an Edge joins them.<br>\n",
    "$v \\in V$ -> **neighbours set** of v is the set of vertices v is adjacent to.<br>\n",
    "An edge is a **self loop** if it joins a vertex to itself."
   ]
  },
  {
   "cell_type": "markdown",
   "metadata": {},
   "source": [
    "**Undirected Graphs:** Edge (u, v) = (v, u) -> no sense of direction/order.<br>\n",
    "**Directed Graphs:** There is a direction/order -> (u, v) and (v, u) are not the same."
   ]
  },
  {
   "cell_type": "markdown",
   "metadata": {},
   "source": [
    "For directed graphs, we have **indegree** and **outdegree** of a vertex, v.<br>\n",
    "**Indegree:** No. of edges ending at v.<br>\n",
    "**Outdegree:** No. of edges starting at v."
   ]
  },
  {
   "cell_type": "markdown",
   "metadata": {},
   "source": [
    "#### Walk, paths, and trails"
   ]
  },
  {
   "cell_type": "markdown",
   "metadata": {},
   "source": [
    "Graph G = (V, E): **Walk** from vertex u to vertex v is an alternating sequence of vertices and edges, starting with u and ending with v.<br>\n",
    "**Trail** = Walk with no repeated edges.<br>\n",
    "**Path** = No repeated vertices (except possibly the first and last).<br>\n",
    "**Cycle** = Path that starts and ends at the same node.<br>\n",
    "**Cyclic** = Graph containing a cycle.<br>\n",
    "**Acyclic** = Graph not containing a cycle."
   ]
  },
  {
   "cell_type": "markdown",
   "metadata": {},
   "source": [
    "### Bayesian Models"
   ]
  },
  {
   "cell_type": "markdown",
   "metadata": {},
   "source": [
    "In a lot of real world scenarios, there would be many RVs. This makes for a large number of probability values and resulting issues with computation and computer memory.<br>\n",
    "Exploiting independencies helps in the compact representation of joint probability distribution. This forms the basis for the Bayesian network."
   ]
  },
  {
   "cell_type": "markdown",
   "metadata": {},
   "source": []
  },
  {
   "cell_type": "markdown",
   "metadata": {},
   "source": []
  },
  {
   "cell_type": "markdown",
   "metadata": {},
   "source": []
  },
  {
   "cell_type": "markdown",
   "metadata": {},
   "source": []
  },
  {
   "cell_type": "markdown",
   "metadata": {},
   "source": []
  },
  {
   "cell_type": "markdown",
   "metadata": {},
   "source": []
  },
  {
   "cell_type": "markdown",
   "metadata": {},
   "source": []
  },
  {
   "cell_type": "markdown",
   "metadata": {},
   "source": []
  },
  {
   "cell_type": "markdown",
   "metadata": {},
   "source": []
  },
  {
   "cell_type": "markdown",
   "metadata": {},
   "source": []
  },
  {
   "cell_type": "markdown",
   "metadata": {},
   "source": []
  },
  {
   "cell_type": "markdown",
   "metadata": {},
   "source": []
  },
  {
   "cell_type": "markdown",
   "metadata": {},
   "source": []
  },
  {
   "cell_type": "markdown",
   "metadata": {},
   "source": []
  },
  {
   "cell_type": "markdown",
   "metadata": {},
   "source": []
  },
  {
   "cell_type": "markdown",
   "metadata": {},
   "source": []
  },
  {
   "cell_type": "markdown",
   "metadata": {},
   "source": []
  },
  {
   "cell_type": "markdown",
   "metadata": {},
   "source": []
  },
  {
   "cell_type": "markdown",
   "metadata": {},
   "source": []
  },
  {
   "cell_type": "markdown",
   "metadata": {},
   "source": []
  },
  {
   "cell_type": "markdown",
   "metadata": {},
   "source": []
  },
  {
   "cell_type": "markdown",
   "metadata": {},
   "source": []
  },
  {
   "cell_type": "markdown",
   "metadata": {},
   "source": []
  },
  {
   "cell_type": "markdown",
   "metadata": {},
   "source": []
  }
 ],
 "metadata": {
  "kernelspec": {
   "display_name": "Python 2",
   "language": "python",
   "name": "python2"
  },
  "language_info": {
   "codemirror_mode": {
    "name": "ipython",
    "version": 2
   },
   "file_extension": ".py",
   "mimetype": "text/x-python",
   "name": "python",
   "nbconvert_exporter": "python",
   "pygments_lexer": "ipython2",
   "version": "2.7.11"
  }
 },
 "nbformat": 4,
 "nbformat_minor": 2
}
