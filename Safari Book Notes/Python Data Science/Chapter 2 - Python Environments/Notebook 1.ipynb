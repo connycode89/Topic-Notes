{
 "cells": [
  {
   "cell_type": "markdown",
   "metadata": {},
   "source": [
    "### Using NumPy libraries"
   ]
  },
  {
   "cell_type": "code",
   "execution_count": 1,
   "metadata": {
    "collapsed": false
   },
   "outputs": [
    {
     "name": "stdout",
     "output_type": "stream",
     "text": [
      "[1 2 3]\n",
      "[ 1.  2.  3.]\n",
      "[[  1.   2.   3.]\n",
      " [  5.   6.   7.]\n",
      " [  8.   9.  10.]]\n"
     ]
    }
   ],
   "source": [
    "# Importing numpy as np\n",
    "import numpy as np\n",
    "# Creating arrays\n",
    "a_list = [1,2,3]\n",
    "an_array = np.array(a_list)\n",
    "print an_array\n",
    "# Specify the datatype\n",
    "an_array = np.array(a_list,dtype=float)\n",
    "print an_array\n",
    "\n",
    "# Creating matrices\n",
    "a_listoflist = [[1,2,3],[5,6,7],[8,9,10]]\n",
    "a_matrix = np.matrix(a_listoflist,dtype=float)\n",
    "\n",
    "print a_matrix"
   ]
  },
  {
   "cell_type": "code",
   "execution_count": 5,
   "metadata": {
    "collapsed": false
   },
   "outputs": [
    {
     "name": "stdout",
     "output_type": "stream",
     "text": [
      "\n",
      "[[  1.   2.   3.]\n",
      " [  5.   6.   7.]\n",
      " [  8.   9.  10.]]\n",
      "\n",
      "Number of elements in a = 9\n",
      "Number of dimensions in a = 2\n",
      "Rows and Columns in a  (3L, 3L)\n",
      "\n"
     ]
    }
   ],
   "source": [
    "# A simple function to examine given numpy object \n",
    "def display_shape(a):    \n",
    "    print     \n",
    "    print a    \n",
    "    print    \n",
    "    print \"Number of elements in a = %d\"%(a.size)    \n",
    "    print \"Number of dimensions in a = %d\"%(a.ndim)    \n",
    "    print \"Rows and Columns in a \",a.shape    \n",
    "    print \n",
    "    \n",
    "display_shape(a_matrix)"
   ]
  },
  {
   "cell_type": "code",
   "execution_count": null,
   "metadata": {
    "collapsed": true
   },
   "outputs": [],
   "source": []
  }
 ],
 "metadata": {
  "kernelspec": {
   "display_name": "Python 2",
   "language": "python",
   "name": "python2"
  },
  "language_info": {
   "codemirror_mode": {
    "name": "ipython",
    "version": 2
   },
   "file_extension": ".py",
   "mimetype": "text/x-python",
   "name": "python",
   "nbconvert_exporter": "python",
   "pygments_lexer": "ipython2",
   "version": "2.7.11"
  }
 },
 "nbformat": 4,
 "nbformat_minor": 2
}
