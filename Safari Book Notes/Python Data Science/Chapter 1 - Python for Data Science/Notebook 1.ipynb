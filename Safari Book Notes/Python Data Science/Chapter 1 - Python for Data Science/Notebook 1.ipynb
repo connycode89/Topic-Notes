{
 "cells": [
  {
   "cell_type": "markdown",
   "metadata": {},
   "source": [
    "### Using Dictionary Objects"
   ]
  },
  {
   "cell_type": "markdown",
   "metadata": {},
   "source": [
    "Containers are objects that can hold any number of arbitrary objects."
   ]
  },
  {
   "cell_type": "code",
   "execution_count": 1,
   "metadata": {
    "collapsed": true
   },
   "outputs": [],
   "source": [
    "# 1.Load a variable with sentences\n",
    "sentence = \"Peter Piper picked a peck of pickled peppers A peck of pickled\\\n",
    "peppers Peter Piper picked If Peter Piper picked a peck of pickled\\\n",
    "peppers Wheres the peck of pickled peppers Peter Piper picked\""
   ]
  },
  {
   "cell_type": "code",
   "execution_count": 2,
   "metadata": {
    "collapsed": true
   },
   "outputs": [],
   "source": [
    "# 2.Initialize a dictionary object\n",
    "word_dict = {}"
   ]
  },
  {
   "cell_type": "code",
   "execution_count": 3,
   "metadata": {
    "collapsed": true
   },
   "outputs": [],
   "source": [
    "# 3.Perform the word count\n",
    "for word in sentence.split():    \n",
    "    if word not in word_dict:        \n",
    "        word_dict[word] = 1    \n",
    "    else:          \n",
    "        word_dict[word]+=1"
   ]
  },
  {
   "cell_type": "code",
   "execution_count": 4,
   "metadata": {},
   "outputs": [
    {
     "name": "stdout",
     "output_type": "stream",
     "text": [
      "{'a': 2, 'A': 1, 'Peter': 4, 'of': 4, 'Piper': 4, 'pickled': 2, 'pickledpeppers': 2, 'picked': 4, 'peppers': 2, 'the': 1, 'peck': 4, 'Wheres': 1, 'If': 1}\n"
     ]
    }
   ],
   "source": [
    "# 4.print the output\n",
    "print (word_dict)"
   ]
  },
  {
   "cell_type": "markdown",
   "metadata": {},
   "source": [
    "Rewriting using a default dict"
   ]
  },
  {
   "cell_type": "code",
   "execution_count": 5,
   "metadata": {
    "collapsed": true
   },
   "outputs": [],
   "source": [
    "del word_dict\n",
    "word_dict = {}\n",
    "for word in sentence.split():\n",
    "    word_dict.setdefault(word,0)\n",
    "    word_dict[word]+=1"
   ]
  },
  {
   "cell_type": "code",
   "execution_count": 6,
   "metadata": {},
   "outputs": [
    {
     "name": "stdout",
     "output_type": "stream",
     "text": [
      "{'a': 2, 'A': 1, 'Peter': 4, 'of': 4, 'Piper': 4, 'pickled': 2, 'pickledpeppers': 2, 'picked': 4, 'peppers': 2, 'the': 1, 'peck': 4, 'Wheres': 1, 'If': 1}\n"
     ]
    }
   ],
   "source": [
    "print (word_dict)"
   ]
  },
  {
   "cell_type": "markdown",
   "metadata": {},
   "source": [
    "Can use the defaultdict class instead"
   ]
  },
  {
   "cell_type": "code",
   "execution_count": 7,
   "metadata": {
    "collapsed": true
   },
   "outputs": [],
   "source": [
    "from collections import defaultdict"
   ]
  },
  {
   "cell_type": "code",
   "execution_count": 8,
   "metadata": {},
   "outputs": [
    {
     "name": "stdout",
     "output_type": "stream",
     "text": [
      "defaultdict(<type 'int'>, {'a': 2, 'A': 1, 'Peter': 4, 'of': 4, 'Piper': 4, 'pickled': 2, 'pickledpeppers': 2, 'picked': 4, 'peppers': 2, 'the': 1, 'peck': 4, 'Wheres': 1, 'If': 1})\n"
     ]
    }
   ],
   "source": [
    "word_dict = defaultdict(int)\n",
    "for word in sentence.split():    \n",
    "    word_dict[word]+=1\n",
    "print word_dict"
   ]
  },
  {
   "cell_type": "markdown",
   "metadata": {},
   "source": [
    "Loop through keys and values of a dict"
   ]
  },
  {
   "cell_type": "code",
   "execution_count": 10,
   "metadata": {},
   "outputs": [
    {
     "name": "stdout",
     "output_type": "stream",
     "text": [
      "a 2\n",
      "A 1\n",
      "Peter 4\n",
      "of 4\n",
      "Piper 4\n",
      "pickled 2\n",
      "pickledpeppers 2\n",
      "picked 4\n",
      "peppers 2\n",
      "the 1\n",
      "peck 4\n",
      "Wheres 1\n",
      "If 1\n"
     ]
    }
   ],
   "source": [
    "for key, value in word_dict.items():\n",
    "    print key,value"
   ]
  },
  {
   "cell_type": "markdown",
   "metadata": {},
   "source": [
    "Another option is the Counter function"
   ]
  },
  {
   "cell_type": "code",
   "execution_count": 11,
   "metadata": {
    "collapsed": true
   },
   "outputs": [],
   "source": [
    "from collections import Counter"
   ]
  },
  {
   "cell_type": "code",
   "execution_count": 14,
   "metadata": {},
   "outputs": [
    {
     "name": "stdout",
     "output_type": "stream",
     "text": [
      "Counter({'Peter': 4, 'of': 4, 'Piper': 4, 'picked': 4, 'peck': 4, 'a': 2, 'pickled': 2, 'pickledpeppers': 2, 'peppers': 2, 'A': 1, 'the': 1, 'Wheres': 1, 'If': 1})\n",
      "defaultdict(<type 'int'>, {'a': 2, 'A': 1, 'Peter': 4, 'of': 4, 'Piper': 4, 'pickled': 2, 'pickledpeppers': 2, 'picked': 4, 'peppers': 2, 'the': 1, 'peck': 4, 'Wheres': 1, 'If': 1})\n"
     ]
    }
   ],
   "source": [
    "words = sentence.split()\n",
    "word_count = Counter(words)\n",
    "print word_count\n",
    "print word_dict  "
   ]
  },
  {
   "cell_type": "markdown",
   "metadata": {},
   "source": [
    "### Working with a dictionary of dictionaries"
   ]
  },
  {
   "cell_type": "markdown",
   "metadata": {},
   "source": [
    "User movie ratings data"
   ]
  },
  {
   "cell_type": "code",
   "execution_count": 15,
   "metadata": {},
   "outputs": [
    {
     "name": "stdout",
     "output_type": "stream",
     "text": [
      "defaultdict(<function <lambda> at 0x0000000003ABBF28>, {'Alice': defaultdict(<type 'int'>, {'SW1': 5, 'SW2': 3, 'LOR1': 4, 'LOR3': 3, 'LOR2': 5})})\n"
     ]
    }
   ],
   "source": [
    "from collections import defaultdict\n",
    "user_movie_rating = defaultdict(lambda :defaultdict(int))\n",
    "# Initialize ratings for Alice\n",
    "user_movie_rating[\"Alice\"][\"LOR1\"] =  4\n",
    "user_movie_rating[\"Alice\"][\"LOR2\"] =  5\n",
    "user_movie_rating[\"Alice\"][\"LOR3\"] =  3\n",
    "user_movie_rating[\"Alice\"][\"SW1\"]  =  5\n",
    "user_movie_rating[\"Alice\"][\"SW2\"]  =  3\n",
    "print user_movie_rating"
   ]
  },
  {
   "cell_type": "markdown",
   "metadata": {},
   "source": [
    "### Working with tuples"
   ]
  },
  {
   "cell_type": "code",
   "execution_count": 16,
   "metadata": {
    "collapsed": true
   },
   "outputs": [],
   "source": [
    "# 1.Ways of creating a tuple\n",
    "a_tuple = (1,2,'a')\n",
    "b_tuple =1,2,'c'"
   ]
  },
  {
   "cell_type": "code",
   "execution_count": 17,
   "metadata": {},
   "outputs": [
    {
     "name": "stdout",
     "output_type": "stream",
     "text": [
      "1\n",
      "c\n"
     ]
    }
   ],
   "source": [
    "# 2.Accessing elements of a tuple through index\n",
    "print b_tuple[0]\n",
    "print b_tuple[-1]"
   ]
  },
  {
   "cell_type": "code",
   "execution_count": 18,
   "metadata": {},
   "outputs": [
    {
     "name": "stdout",
     "output_type": "stream",
     "text": [
      "Cannot change value of tuple by index\n"
     ]
    }
   ],
   "source": [
    "# 3.It is not possible to change the value of an item in a tuple,\n",
    "# for example the next statement will result in an error.\n",
    "try:    \n",
    "    b_tuple[0] = 20\n",
    "except:    \n",
    "    print \"Cannot change value of tuple by index\"   "
   ]
  },
  {
   "cell_type": "code",
   "execution_count": 19,
   "metadata": {
    "collapsed": true
   },
   "outputs": [],
   "source": [
    "# 4.Though tuples are immutable\n",
    "# But elements of a tuple can be mutable objects,\n",
    "# for instance a list, as in the following line of code\n",
    "c_tuple =(1,2,[10,20,30])\n",
    "c_tuple[2][0] = 100"
   ]
  },
  {
   "cell_type": "code",
   "execution_count": 20,
   "metadata": {},
   "outputs": [
    {
     "data": {
      "text/plain": [
       "(1, 2, [100, 20, 30])"
      ]
     },
     "execution_count": 20,
     "metadata": {},
     "output_type": "execute_result"
    }
   ],
   "source": [
    "c_tuple"
   ]
  },
  {
   "cell_type": "code",
   "execution_count": 21,
   "metadata": {},
   "outputs": [
    {
     "name": "stdout",
     "output_type": "stream",
     "text": [
      "(1, 2, 'a', 1, 2, 'c')\n"
     ]
    }
   ],
   "source": [
    "# 5.Tuples once created cannot be extended like list, \n",
    "# however two tuples can be concatenated.\n",
    "print a_tuple + b_tuple"
   ]
  },
  {
   "cell_type": "code",
   "execution_count": 22,
   "metadata": {},
   "outputs": [
    {
     "name": "stdout",
     "output_type": "stream",
     "text": [
      "(2, 3, 4, 5, 6, 7, 8, 9, 10)\n",
      "(2, 3)\n",
      "(2, 4, 6)\n",
      "(1, 2, 3, 4, 5, 6, 7, 8, 9)\n"
     ]
    }
   ],
   "source": [
    "# 6 Slicing of tuples\n",
    "a =(1,2,3,4,5,6,7,8,9,10)\n",
    "print a[1:]\n",
    "print a[1:3]\n",
    "print a[1:6:2]\n",
    "print a[:-1]"
   ]
  },
  {
   "cell_type": "code",
   "execution_count": 23,
   "metadata": {},
   "outputs": [
    {
     "name": "stdout",
     "output_type": "stream",
     "text": [
      "1 10\n"
     ]
    }
   ],
   "source": [
    "# 7.Tuple min max\n",
    "print min(a),max(a)"
   ]
  },
  {
   "cell_type": "code",
   "execution_count": 24,
   "metadata": {},
   "outputs": [
    {
     "name": "stdout",
     "output_type": "stream",
     "text": [
      "Element 1 is available in tuple a\n"
     ]
    }
   ],
   "source": [
    "# 8.in and not in\n",
    "if 1 in a:    \n",
    "    print \"Element 1 is available in tuple a\"\n",
    "else:\n",
    "    print \"Element 1 is available in tuple a\""
   ]
  },
  {
   "cell_type": "markdown",
   "metadata": {},
   "source": [
    "Tuples are immutable"
   ]
  },
  {
   "cell_type": "code",
   "execution_count": 25,
   "metadata": {},
   "outputs": [
    {
     "name": "stdout",
     "output_type": "stream",
     "text": [
      "(10, 9, 8, 7, 6, 5, 4, 3, 2, 1)\n"
     ]
    }
   ],
   "source": [
    "print a[::-1]"
   ]
  },
  {
   "cell_type": "markdown",
   "metadata": {},
   "source": [
    "namedtuple"
   ]
  },
  {
   "cell_type": "code",
   "execution_count": 27,
   "metadata": {},
   "outputs": [
    {
     "name": "stdout",
     "output_type": "stream",
     "text": [
      "Manhattan distance between vectors = 1\n"
     ]
    }
   ],
   "source": [
    "from collections import namedtuple\n",
    "\n",
    "vector = namedtuple(\"Dimension\",'x y z')\n",
    "vec_1 = vector(1,1,1)\n",
    "vec_2 = vector(1,0,1)\n",
    "manhattan_distance = abs(vec_1.x - vec_2.x) + abs(vec_1.y - vec_2.y)+ abs(vec_1.z - vec_2.z)\n",
    "print \"Manhattan distance between vectors = %d\"%(manhattan_distance)"
   ]
  },
  {
   "cell_type": "markdown",
   "metadata": {
    "collapsed": true
   },
   "source": [
    "### Using sets"
   ]
  },
  {
   "cell_type": "code",
   "execution_count": 1,
   "metadata": {
    "collapsed": true
   },
   "outputs": [],
   "source": [
    "# 1.Initialize two sentences.\n",
    "st_1 = \"dogs chase cats\"\n",
    "st_2 = \"dogs hate cats\""
   ]
  },
  {
   "cell_type": "code",
   "execution_count": 2,
   "metadata": {
    "collapsed": true
   },
   "outputs": [],
   "source": [
    "# 2.Create set of words from strings\n",
    "st_1_wrds = set(st_1.split())\n",
    "st_2_wrds = set(st_2.split())"
   ]
  },
  {
   "cell_type": "code",
   "execution_count": 3,
   "metadata": {
    "collapsed": true
   },
   "outputs": [],
   "source": [
    "# 3.Find out the number of unique words in each set, vocabulary size.\n",
    "no_wrds_st_1 = len(st_1_wrds)\n",
    "no_wrds_st_2 = len(st_2_wrds)"
   ]
  },
  {
   "cell_type": "code",
   "execution_count": 4,
   "metadata": {
    "collapsed": true
   },
   "outputs": [],
   "source": [
    "# 4.Find out the list of common words between the two sets.\n",
    "# Also find out the count of common words.\n",
    "cmn_wrds = st_1_wrds.intersection(st_2_wrds)\n",
    "no_cmn_wrds = len(st_1_wrds.intersection(st_2_wrds))"
   ]
  },
  {
   "cell_type": "code",
   "execution_count": 5,
   "metadata": {
    "collapsed": true
   },
   "outputs": [],
   "source": [
    "# 5.Get a list of unique words between the two sets.\n",
    "# Also find out the count of unique words.\n",
    "unq_wrds = st_1_wrds.union(st_2_wrds)\n",
    "no_unq_wrds = len(st_1_wrds.union(st_2_wrds))"
   ]
  },
  {
   "cell_type": "code",
   "execution_count": 6,
   "metadata": {
    "collapsed": true
   },
   "outputs": [],
   "source": [
    "# 6.Calculate Jaccard similarity \n",
    "similarity = no_cmn_wrds / (1.0 * no_unq_wrds)"
   ]
  },
  {
   "cell_type": "code",
   "execution_count": 7,
   "metadata": {},
   "outputs": [
    {
     "name": "stdout",
     "output_type": "stream",
     "text": [
      "No words in sent_1 = 3\n",
      "Sentence 1 words = set(['cats', 'dogs', 'chase'])\n",
      "No words in sent_2 = 3\n",
      "Sentence 2 words = set(['cats', 'hate', 'dogs'])\n",
      "No words in common = 2\n",
      "Common words = set(['cats', 'dogs'])\n",
      "Total unique words = 4\n",
      "Unique words= set(['cats', 'hate', 'dogs', 'chase'])\n",
      "Similarity = No words in common/No unique words, 2/4 = 0.50\n"
     ]
    }
   ],
   "source": [
    "# 7.Let us now print to grasp our output.\n",
    "print \"No words in sent_1 = %d\"%(no_wrds_st_1)\n",
    "print \"Sentence 1 words =\", st_1_wrds\n",
    "print \"No words in sent_2 = %d\"%(no_wrds_st_2)\n",
    "print \"Sentence 2 words =\", st_2_wrds\n",
    "print \"No words in common = %d\"%(no_cmn_wrds)\n",
    "print \"Common words =\", cmn_wrds\n",
    "print \"Total unique words = %d\"%(no_unq_wrds)\n",
    "print \"Unique words=\",unq_wrds\n",
    "print \"Similarity = No words in common/No unique words, %d/%d = %.2f\"%(no_cmn_wrds,no_unq_wrds,similarity)"
   ]
  },
  {
   "cell_type": "code",
   "execution_count": 8,
   "metadata": {},
   "outputs": [
    {
     "data": {
      "text/plain": [
       "{1, 2}"
      ]
     },
     "execution_count": 8,
     "metadata": {},
     "output_type": "execute_result"
    }
   ],
   "source": [
    "a =(1,2,1)\n",
    "set(a)"
   ]
  },
  {
   "cell_type": "code",
   "execution_count": 9,
   "metadata": {},
   "outputs": [
    {
     "data": {
      "text/plain": [
       "{1, 2}"
      ]
     },
     "execution_count": 9,
     "metadata": {},
     "output_type": "execute_result"
    }
   ],
   "source": [
    "b =[1,2,1]\n",
    "set(b)"
   ]
  },
  {
   "cell_type": "markdown",
   "metadata": {},
   "source": [
    "Use sklearn library instead"
   ]
  },
  {
   "cell_type": "code",
   "execution_count": 11,
   "metadata": {
    "collapsed": true
   },
   "outputs": [],
   "source": [
    "# Load libraries\n",
    "from sklearn.metrics import jaccard_similarity_score\n",
    "# 1.Initialize two sentences.\n",
    "st_1 = \"dogs chase cats\"\n",
    "st_2 = \"dogs hate cats\""
   ]
  },
  {
   "cell_type": "code",
   "execution_count": 14,
   "metadata": {},
   "outputs": [
    {
     "name": "stdout",
     "output_type": "stream",
     "text": [
      "[1, 0, 1, 1]\n",
      "[1, 1, 1, 0]\n",
      "0.5\n"
     ]
    }
   ],
   "source": [
    "# 2.Create set of words from strings\n",
    "st_1_wrds = set(st_1.split())\n",
    "st_2_wrds = set(st_2.split())\n",
    "unq_wrds = st_1_wrds.union(st_2_wrds)\n",
    "a  = [ 1 if w in st_1_wrds else 0 for w in unq_wrds ]\n",
    "b  = [ 1 if w in st_2_wrds else 0 for w in unq_wrds]\n",
    "print a\n",
    "print b\n",
    "print jaccard_similarity_score(a,b)"
   ]
  },
  {
   "cell_type": "markdown",
   "metadata": {},
   "source": [
    "### Writing a list"
   ]
  },
  {
   "cell_type": "code",
   "execution_count": 1,
   "metadata": {},
   "outputs": [
    {
     "name": "stdout",
     "output_type": "stream",
     "text": [
      "[1, 2, 3, 4, 5, 6, 7, 8, 9]\n",
      "['a', 'b', 'c']\n"
     ]
    }
   ],
   "source": [
    "# 1.Let us look at a quick example of list creation. \n",
    "a = range(1,10)\n",
    "print a\n",
    "b = [\"a\",\"b\",\"c\"]\n",
    "print b"
   ]
  },
  {
   "cell_type": "code",
   "execution_count": 2,
   "metadata": {},
   "outputs": [
    {
     "name": "stdout",
     "output_type": "stream",
     "text": [
      "1\n"
     ]
    }
   ],
   "source": [
    "# 2.List can be accessed through indexing. Indexing starts at 0.\n",
    "print a[0]"
   ]
  },
  {
   "cell_type": "code",
   "execution_count": 3,
   "metadata": {},
   "outputs": [
    {
     "data": {
      "text/plain": [
       "9"
      ]
     },
     "execution_count": 3,
     "metadata": {},
     "output_type": "execute_result"
    }
   ],
   "source": [
    "# 3.With negative indexing the elements of a list are accessed from backwards.\n",
    "a[-1]"
   ]
  },
  {
   "cell_type": "code",
   "execution_count": 4,
   "metadata": {},
   "outputs": [
    {
     "name": "stdout",
     "output_type": "stream",
     "text": [
      "[2, 3]\n",
      "[2, 3, 4, 5, 6, 7, 8, 9]\n",
      "[9]\n",
      "[1, 2, 3, 4, 5, 6, 7, 8]\n"
     ]
    }
   ],
   "source": [
    "# 4.Slicing is accessing a subset of list by providing two indices.\n",
    "print a[1:3]  # prints [2, 3]\n",
    "print a[1:]   # prints [2, 3, 4, 5, 6, 7, 8, 9]\n",
    "print a[-1:]  # prints [9]\n",
    "print a[:-1]  # prints [1, 2, 3, 4, 5, 6, 7, 8]"
   ]
  },
  {
   "cell_type": "code",
   "execution_count": 5,
   "metadata": {},
   "outputs": [
    {
     "name": "stdout",
     "output_type": "stream",
     "text": [
      "[1, 2, 3, 4]\n"
     ]
    }
   ],
   "source": [
    "#5.List concatenation\n",
    "a = [1,2]\n",
    "b = [3,4]\n",
    "print a + b # prints [1, 2, 3, 4]"
   ]
  },
  {
   "cell_type": "code",
   "execution_count": 6,
   "metadata": {},
   "outputs": [
    {
     "name": "stdout",
     "output_type": "stream",
     "text": [
      "1 2\n"
     ]
    }
   ],
   "source": [
    "# 6.List  min max\n",
    "print min(a),max(a)"
   ]
  },
  {
   "cell_type": "code",
   "execution_count": 7,
   "metadata": {},
   "outputs": [
    {
     "name": "stdout",
     "output_type": "stream",
     "text": [
      "Element 1 is available in list a\n"
     ]
    }
   ],
   "source": [
    "# 7.in and not in\n",
    "if 1 in a:    \n",
    "    print \"Element 1 is available in list a\"\n",
    "else:    \n",
    "    print \"Element 1 is available in tuple a\""
   ]
  },
  {
   "cell_type": "code",
   "execution_count": 8,
   "metadata": {},
   "outputs": [
    {
     "name": "stdout",
     "output_type": "stream",
     "text": [
      "[1, 2, 3, 4, 5, 6, 7, 8, 9]\n",
      "[1, 2, 3, 4, 5, 6, 7, 8, 9, 10]\n"
     ]
    }
   ],
   "source": [
    "# 8. Appending and extending list\n",
    "a = range(1,10)\n",
    "print a\n",
    "a.append(10)\n",
    "print a"
   ]
  },
  {
   "cell_type": "code",
   "execution_count": 9,
   "metadata": {},
   "outputs": [
    {
     "name": "stdout",
     "output_type": "stream",
     "text": [
      "3\n",
      "2\n",
      "1\n"
     ]
    }
   ],
   "source": [
    "# 9.List as a stack\n",
    "a_stack = []\n",
    "a_stack.append(1)\n",
    "a_stack.append(2)\n",
    "a_stack.append(3)\n",
    "print a_stack.pop()\n",
    "print a_stack.pop()\n",
    "print a_stack.pop()"
   ]
  },
  {
   "cell_type": "code",
   "execution_count": 10,
   "metadata": {},
   "outputs": [
    {
     "name": "stdout",
     "output_type": "stream",
     "text": [
      "1\n",
      "2\n",
      "3\n"
     ]
    }
   ],
   "source": [
    "# 10.List as queue\n",
    "a_queue = []\n",
    "a_queue.append(1)\n",
    "a_queue.append(2)\n",
    "a_queue.append(3)\n",
    "print a_queue.pop(0)\n",
    "print a_queue.pop(0)\n",
    "print a_queue.pop(0)"
   ]
  },
  {
   "cell_type": "code",
   "execution_count": 11,
   "metadata": {},
   "outputs": [
    {
     "name": "stdout",
     "output_type": "stream",
     "text": [
      "[13, 6, 16, 4, 3, 15, 17, 19, 8, 1, 7, 2, 14, 10, 5, 9, 18, 12, 11]\n",
      "[1, 2, 3, 4, 5, 6, 7, 8, 9, 10, 11, 12, 13, 14, 15, 16, 17, 18, 19]\n",
      "[19, 18, 17, 16, 15, 14, 13, 12, 11, 10, 9, 8, 7, 6, 5, 4, 3, 2, 1]\n"
     ]
    }
   ],
   "source": [
    "# 11.List sort and reverse\n",
    "from random import shuffle\n",
    "a = range(1,20)\n",
    "shuffle(a)\n",
    "print a\n",
    "a.sort()\n",
    "print a\n",
    "a.reverse()\n",
    "print a"
   ]
  },
  {
   "cell_type": "markdown",
   "metadata": {
    "collapsed": true
   },
   "source": [
    "### Creating a list from another list - list comprehension"
   ]
  },
  {
   "cell_type": "code",
   "execution_count": 1,
   "metadata": {
    "collapsed": true
   },
   "outputs": [],
   "source": [
    "# 1.Let us define a simple list with some positive and negative numbers.\n",
    "a = [1,2,-1,-2,3,4,-3,-4]"
   ]
  },
  {
   "cell_type": "code",
   "execution_count": 2,
   "metadata": {
    "collapsed": true
   },
   "outputs": [],
   "source": [
    "# 2.Now let us write our list comprehension.\n",
    "# pow() a power function takes two input and\n",
    "# its output is the first variable raised to the power of the second.\n",
    "b = [pow(x,2) for x in a if x < 0]"
   ]
  },
  {
   "cell_type": "code",
   "execution_count": 3,
   "metadata": {},
   "outputs": [
    {
     "name": "stdout",
     "output_type": "stream",
     "text": [
      "[1, 4, 9, 16]\n"
     ]
    }
   ],
   "source": [
    "# 3.Finally let us see the output, i.e. the newly created list b.\n",
    "print b"
   ]
  },
  {
   "cell_type": "markdown",
   "metadata": {},
   "source": [
    "For dictionaries"
   ]
  },
  {
   "cell_type": "code",
   "execution_count": 4,
   "metadata": {},
   "outputs": [
    {
     "name": "stdout",
     "output_type": "stream",
     "text": [
      "{'a': 1, 'c': 9, 'b': 4}\n"
     ]
    }
   ],
   "source": [
    "a = {'a':1,'b':2,'c':3}\n",
    "b = {x:pow(y,2) for x,y in a.items()}\n",
    "print b"
   ]
  },
  {
   "cell_type": "markdown",
   "metadata": {},
   "source": [
    "Tuple Comprehension"
   ]
  },
  {
   "cell_type": "code",
   "execution_count": 6,
   "metadata": {},
   "outputs": [
    {
     "name": "stdout",
     "output_type": "stream",
     "text": [
      "(1, 4, 1, 4, 'd', 9, 16, 9, 'a')\n"
     ]
    }
   ],
   "source": [
    "def process(x):    \n",
    "    if isinstance(x,str):        \n",
    "        return x.lower()    \n",
    "    elif isinstance(x,int):        \n",
    "        return x*x    \n",
    "    else:        \n",
    "        return -9\n",
    "    \n",
    "a = (1,2,-1,-2,'D',3,4,-3,'A')\n",
    "b = tuple(process(x) for x in a )\n",
    "print b"
   ]
  },
  {
   "cell_type": "markdown",
   "metadata": {},
   "source": [
    "### Using iterators"
   ]
  },
  {
   "cell_type": "code",
   "execution_count": 1,
   "metadata": {},
   "outputs": [],
   "source": [
    "# 1.Let us write a simple iterator.\n",
    "class SimpleCounter(object):    \n",
    "    def __init__(self, start, end):        \n",
    "        self.current = start        \n",
    "        self.end = end    \n",
    "    def __iter__(self):        \n",
    "        'Returns itself as an iterator object'        \n",
    "        return self    \n",
    "    def next(self):        \n",
    "        'Returns the next value till current is lower than end'        \n",
    "        if self.current > self.end:            \n",
    "            raise StopIteration        \n",
    "        else:            \n",
    "            self.current += 1            \n",
    "            return self.current - 1"
   ]
  },
  {
   "cell_type": "code",
   "execution_count": 2,
   "metadata": {},
   "outputs": [
    {
     "name": "stdout",
     "output_type": "stream",
     "text": [
      "1\n",
      "2\n",
      "3\n"
     ]
    },
    {
     "ename": "StopIteration",
     "evalue": "",
     "output_type": "error",
     "traceback": [
      "\u001b[1;31m---------------------------------------------------------------------------\u001b[0m",
      "\u001b[1;31mStopIteration\u001b[0m                             Traceback (most recent call last)",
      "\u001b[1;32m<ipython-input-2-7fe3971834f0>\u001b[0m in \u001b[0;36m<module>\u001b[1;34m()\u001b[0m\n\u001b[0;32m      4\u001b[0m \u001b[1;32mprint\u001b[0m \u001b[0mc\u001b[0m\u001b[1;33m.\u001b[0m\u001b[0mnext\u001b[0m\u001b[1;33m(\u001b[0m\u001b[1;33m)\u001b[0m\u001b[1;33m\u001b[0m\u001b[0m\n\u001b[0;32m      5\u001b[0m \u001b[1;32mprint\u001b[0m \u001b[0mc\u001b[0m\u001b[1;33m.\u001b[0m\u001b[0mnext\u001b[0m\u001b[1;33m(\u001b[0m\u001b[1;33m)\u001b[0m\u001b[1;33m\u001b[0m\u001b[0m\n\u001b[1;32m----> 6\u001b[1;33m \u001b[1;32mprint\u001b[0m \u001b[0mc\u001b[0m\u001b[1;33m.\u001b[0m\u001b[0mnext\u001b[0m\u001b[1;33m(\u001b[0m\u001b[1;33m)\u001b[0m\u001b[1;33m\u001b[0m\u001b[0m\n\u001b[0m",
      "\u001b[1;32m<ipython-input-1-3ac24b4c17fa>\u001b[0m in \u001b[0;36mnext\u001b[1;34m(self)\u001b[0m\n\u001b[0;32m     10\u001b[0m         \u001b[1;34m'Returns the next value till current is lower than end'\u001b[0m\u001b[1;33m\u001b[0m\u001b[0m\n\u001b[0;32m     11\u001b[0m         \u001b[1;32mif\u001b[0m \u001b[0mself\u001b[0m\u001b[1;33m.\u001b[0m\u001b[0mcurrent\u001b[0m \u001b[1;33m>\u001b[0m \u001b[0mself\u001b[0m\u001b[1;33m.\u001b[0m\u001b[0mend\u001b[0m\u001b[1;33m:\u001b[0m\u001b[1;33m\u001b[0m\u001b[0m\n\u001b[1;32m---> 12\u001b[1;33m             \u001b[1;32mraise\u001b[0m \u001b[0mStopIteration\u001b[0m\u001b[1;33m\u001b[0m\u001b[0m\n\u001b[0m\u001b[0;32m     13\u001b[0m         \u001b[1;32melse\u001b[0m\u001b[1;33m:\u001b[0m\u001b[1;33m\u001b[0m\u001b[0m\n\u001b[0;32m     14\u001b[0m             \u001b[0mself\u001b[0m\u001b[1;33m.\u001b[0m\u001b[0mcurrent\u001b[0m \u001b[1;33m+=\u001b[0m \u001b[1;36m1\u001b[0m\u001b[1;33m\u001b[0m\u001b[0m\n",
      "\u001b[1;31mStopIteration\u001b[0m: "
     ]
    }
   ],
   "source": [
    "# 2.Now let us try to access the iterator\n",
    "c = SimpleCounter(1,3)\n",
    "print c.next()\n",
    "print c.next()\n",
    "print c.next()\n",
    "print c.next()"
   ]
  },
  {
   "cell_type": "code",
   "execution_count": 3,
   "metadata": {
    "collapsed": true
   },
   "outputs": [],
   "source": [
    "# 3.Another way to access\n",
    "for entry in iter(c):    \n",
    "    print entry     "
   ]
  },
  {
   "cell_type": "code",
   "execution_count": 7,
   "metadata": {},
   "outputs": [
    {
     "name": "stdout",
     "output_type": "stream",
     "text": [
      "a\n",
      "\n",
      "b\n",
      "\n",
      "c\n",
      "\n",
      "d\n"
     ]
    }
   ],
   "source": [
    "#f = open(some_file_of_interest)\n",
    "f = open('file_of_interest.txt')\n",
    "for l in iter(f):\n",
    "    print l\n",
    "f.close()"
   ]
  },
  {
   "cell_type": "markdown",
   "metadata": {},
   "source": [
    "### Generating an iterator and a generator"
   ]
  },
  {
   "cell_type": "code",
   "execution_count": 8,
   "metadata": {},
   "outputs": [
    {
     "name": "stdout",
     "output_type": "stream",
     "text": [
      "285\n"
     ]
    }
   ],
   "source": [
    "SimpleCounter  = (x**2 for x in range(1,10))\n",
    "tot = 0\n",
    "for val in SimpleCounter:    \n",
    "    tot+=val\n",
    "print tot    "
   ]
  },
  {
   "cell_type": "code",
   "execution_count": 9,
   "metadata": {},
   "outputs": [
    {
     "name": "stdout",
     "output_type": "stream",
     "text": [
      "285\n"
     ]
    }
   ],
   "source": [
    "def my_gen(low,high):    \n",
    "    for x in range(low,high):        \n",
    "        yield x**2\n",
    "        \n",
    "tot = 0        \n",
    "for val in my_gen(1,10):    \n",
    "        tot+=val\n",
    "print tot    "
   ]
  },
  {
   "cell_type": "code",
   "execution_count": null,
   "metadata": {
    "collapsed": true
   },
   "outputs": [],
   "source": []
  }
 ],
 "metadata": {
  "kernelspec": {
   "display_name": "Python 2",
   "language": "python",
   "name": "python2"
  },
  "language_info": {
   "codemirror_mode": {
    "name": "ipython",
    "version": 2
   },
   "file_extension": ".py",
   "mimetype": "text/x-python",
   "name": "python",
   "nbconvert_exporter": "python",
   "pygments_lexer": "ipython2",
   "version": "2.7.13"
  }
 },
 "nbformat": 4,
 "nbformat_minor": 2
}
