{
 "cells": [
  {
   "cell_type": "markdown",
   "metadata": {},
   "source": [
    "### Using Dictionary Objects"
   ]
  },
  {
   "cell_type": "markdown",
   "metadata": {},
   "source": [
    "Containers are objects that can hold any number of arbitrary objects."
   ]
  },
  {
   "cell_type": "code",
   "execution_count": 1,
   "metadata": {
    "collapsed": true
   },
   "outputs": [],
   "source": [
    "# 1.Load a variable with sentences\n",
    "sentence = \"Peter Piper picked a peck of pickled peppers A peck of pickled\\\n",
    "peppers Peter Piper picked If Peter Piper picked a peck of pickled\\\n",
    "peppers Wheres the peck of pickled peppers Peter Piper picked\""
   ]
  },
  {
   "cell_type": "code",
   "execution_count": 2,
   "metadata": {
    "collapsed": true
   },
   "outputs": [],
   "source": [
    "# 2.Initialize a dictionary object\n",
    "word_dict = {}"
   ]
  },
  {
   "cell_type": "code",
   "execution_count": 3,
   "metadata": {
    "collapsed": true
   },
   "outputs": [],
   "source": [
    "# 3.Perform the word count\n",
    "for word in sentence.split():    \n",
    "    if word not in word_dict:        \n",
    "        word_dict[word] = 1    \n",
    "    else:          \n",
    "        word_dict[word]+=1"
   ]
  },
  {
   "cell_type": "code",
   "execution_count": 4,
   "metadata": {
    "collapsed": false
   },
   "outputs": [
    {
     "name": "stdout",
     "output_type": "stream",
     "text": [
      "{'a': 2, 'A': 1, 'Peter': 4, 'of': 4, 'Piper': 4, 'pickled': 2, 'pickledpeppers': 2, 'picked': 4, 'peppers': 2, 'the': 1, 'peck': 4, 'Wheres': 1, 'If': 1}\n"
     ]
    }
   ],
   "source": [
    "# 4.print the output\n",
    "print (word_dict)"
   ]
  },
  {
   "cell_type": "markdown",
   "metadata": {},
   "source": [
    "Rewriting using a default dict"
   ]
  },
  {
   "cell_type": "code",
   "execution_count": 5,
   "metadata": {
    "collapsed": true
   },
   "outputs": [],
   "source": [
    "del word_dict\n",
    "word_dict = {}\n",
    "for word in sentence.split():\n",
    "    word_dict.setdefault(word,0)\n",
    "    word_dict[word]+=1"
   ]
  },
  {
   "cell_type": "code",
   "execution_count": 6,
   "metadata": {
    "collapsed": false
   },
   "outputs": [
    {
     "name": "stdout",
     "output_type": "stream",
     "text": [
      "{'a': 2, 'A': 1, 'Peter': 4, 'of': 4, 'Piper': 4, 'pickled': 2, 'pickledpeppers': 2, 'picked': 4, 'peppers': 2, 'the': 1, 'peck': 4, 'Wheres': 1, 'If': 1}\n"
     ]
    }
   ],
   "source": [
    "print (word_dict)"
   ]
  },
  {
   "cell_type": "markdown",
   "metadata": {},
   "source": [
    "Can use the defaultdict class instead"
   ]
  },
  {
   "cell_type": "code",
   "execution_count": 7,
   "metadata": {
    "collapsed": true
   },
   "outputs": [],
   "source": [
    "from collections import defaultdict"
   ]
  },
  {
   "cell_type": "code",
   "execution_count": 8,
   "metadata": {
    "collapsed": false
   },
   "outputs": [
    {
     "name": "stdout",
     "output_type": "stream",
     "text": [
      "defaultdict(<type 'int'>, {'a': 2, 'A': 1, 'Peter': 4, 'of': 4, 'Piper': 4, 'pickled': 2, 'pickledpeppers': 2, 'picked': 4, 'peppers': 2, 'the': 1, 'peck': 4, 'Wheres': 1, 'If': 1})\n"
     ]
    }
   ],
   "source": [
    "word_dict = defaultdict(int)\n",
    "for word in sentence.split():    \n",
    "    word_dict[word]+=1\n",
    "print word_dict"
   ]
  },
  {
   "cell_type": "markdown",
   "metadata": {},
   "source": [
    "Loop through keys and values of a dict"
   ]
  },
  {
   "cell_type": "code",
   "execution_count": 10,
   "metadata": {
    "collapsed": false
   },
   "outputs": [
    {
     "name": "stdout",
     "output_type": "stream",
     "text": [
      "a 2\n",
      "A 1\n",
      "Peter 4\n",
      "of 4\n",
      "Piper 4\n",
      "pickled 2\n",
      "pickledpeppers 2\n",
      "picked 4\n",
      "peppers 2\n",
      "the 1\n",
      "peck 4\n",
      "Wheres 1\n",
      "If 1\n"
     ]
    }
   ],
   "source": [
    "for key, value in word_dict.items():\n",
    "    print key,value"
   ]
  },
  {
   "cell_type": "markdown",
   "metadata": {},
   "source": [
    "Another option is the Counter function"
   ]
  },
  {
   "cell_type": "code",
   "execution_count": 11,
   "metadata": {
    "collapsed": true
   },
   "outputs": [],
   "source": [
    "from collections import Counter"
   ]
  },
  {
   "cell_type": "code",
   "execution_count": 14,
   "metadata": {
    "collapsed": false
   },
   "outputs": [
    {
     "name": "stdout",
     "output_type": "stream",
     "text": [
      "Counter({'Peter': 4, 'of': 4, 'Piper': 4, 'picked': 4, 'peck': 4, 'a': 2, 'pickled': 2, 'pickledpeppers': 2, 'peppers': 2, 'A': 1, 'the': 1, 'Wheres': 1, 'If': 1})\n",
      "defaultdict(<type 'int'>, {'a': 2, 'A': 1, 'Peter': 4, 'of': 4, 'Piper': 4, 'pickled': 2, 'pickledpeppers': 2, 'picked': 4, 'peppers': 2, 'the': 1, 'peck': 4, 'Wheres': 1, 'If': 1})\n"
     ]
    }
   ],
   "source": [
    "words = sentence.split()\n",
    "word_count = Counter(words)\n",
    "print word_count\n",
    "print word_dict  "
   ]
  },
  {
   "cell_type": "markdown",
   "metadata": {},
   "source": [
    "### Working with a dictionary of dictionaries"
   ]
  },
  {
   "cell_type": "markdown",
   "metadata": {},
   "source": [
    "User movie ratings data"
   ]
  },
  {
   "cell_type": "code",
   "execution_count": 15,
   "metadata": {
    "collapsed": false
   },
   "outputs": [
    {
     "name": "stdout",
     "output_type": "stream",
     "text": [
      "defaultdict(<function <lambda> at 0x0000000003ABBF28>, {'Alice': defaultdict(<type 'int'>, {'SW1': 5, 'SW2': 3, 'LOR1': 4, 'LOR3': 3, 'LOR2': 5})})\n"
     ]
    }
   ],
   "source": [
    "from collections import defaultdict\n",
    "user_movie_rating = defaultdict(lambda :defaultdict(int))\n",
    "# Initialize ratings for Alice\n",
    "user_movie_rating[\"Alice\"][\"LOR1\"] =  4\n",
    "user_movie_rating[\"Alice\"][\"LOR2\"] =  5\n",
    "user_movie_rating[\"Alice\"][\"LOR3\"] =  3\n",
    "user_movie_rating[\"Alice\"][\"SW1\"]  =  5\n",
    "user_movie_rating[\"Alice\"][\"SW2\"]  =  3\n",
    "print user_movie_rating"
   ]
  },
  {
   "cell_type": "markdown",
   "metadata": {},
   "source": [
    "### Working with tuples"
   ]
  },
  {
   "cell_type": "code",
   "execution_count": 16,
   "metadata": {
    "collapsed": true
   },
   "outputs": [],
   "source": [
    "# 1.Ways of creating a tuple\n",
    "a_tuple = (1,2,'a')\n",
    "b_tuple =1,2,'c'"
   ]
  },
  {
   "cell_type": "code",
   "execution_count": 17,
   "metadata": {
    "collapsed": false
   },
   "outputs": [
    {
     "name": "stdout",
     "output_type": "stream",
     "text": [
      "1\n",
      "c\n"
     ]
    }
   ],
   "source": [
    "# 2.Accessing elements of a tuple through index\n",
    "print b_tuple[0]\n",
    "print b_tuple[-1]"
   ]
  },
  {
   "cell_type": "code",
   "execution_count": 18,
   "metadata": {
    "collapsed": false
   },
   "outputs": [
    {
     "name": "stdout",
     "output_type": "stream",
     "text": [
      "Cannot change value of tuple by index\n"
     ]
    }
   ],
   "source": [
    "# 3.It is not possible to change the value of an item in a tuple,\n",
    "# for example the next statement will result in an error.\n",
    "try:    \n",
    "    b_tuple[0] = 20\n",
    "except:    \n",
    "    print \"Cannot change value of tuple by index\"   "
   ]
  },
  {
   "cell_type": "code",
   "execution_count": 19,
   "metadata": {
    "collapsed": true
   },
   "outputs": [],
   "source": [
    "# 4.Though tuples are immutable\n",
    "# But elements of a tuple can be mutable objects,\n",
    "# for instance a list, as in the following line of code\n",
    "c_tuple =(1,2,[10,20,30])\n",
    "c_tuple[2][0] = 100"
   ]
  },
  {
   "cell_type": "code",
   "execution_count": 20,
   "metadata": {
    "collapsed": false
   },
   "outputs": [
    {
     "data": {
      "text/plain": [
       "(1, 2, [100, 20, 30])"
      ]
     },
     "execution_count": 20,
     "metadata": {},
     "output_type": "execute_result"
    }
   ],
   "source": [
    "c_tuple"
   ]
  },
  {
   "cell_type": "code",
   "execution_count": 21,
   "metadata": {
    "collapsed": false
   },
   "outputs": [
    {
     "name": "stdout",
     "output_type": "stream",
     "text": [
      "(1, 2, 'a', 1, 2, 'c')\n"
     ]
    }
   ],
   "source": [
    "# 5.Tuples once created cannot be extended like list, \n",
    "# however two tuples can be concatenated.\n",
    "print a_tuple + b_tuple"
   ]
  },
  {
   "cell_type": "code",
   "execution_count": 22,
   "metadata": {
    "collapsed": false
   },
   "outputs": [
    {
     "name": "stdout",
     "output_type": "stream",
     "text": [
      "(2, 3, 4, 5, 6, 7, 8, 9, 10)\n",
      "(2, 3)\n",
      "(2, 4, 6)\n",
      "(1, 2, 3, 4, 5, 6, 7, 8, 9)\n"
     ]
    }
   ],
   "source": [
    "# 6 Slicing of tuples\n",
    "a =(1,2,3,4,5,6,7,8,9,10)\n",
    "print a[1:]\n",
    "print a[1:3]\n",
    "print a[1:6:2]\n",
    "print a[:-1]"
   ]
  },
  {
   "cell_type": "code",
   "execution_count": 23,
   "metadata": {
    "collapsed": false
   },
   "outputs": [
    {
     "name": "stdout",
     "output_type": "stream",
     "text": [
      "1 10\n"
     ]
    }
   ],
   "source": [
    "# 7.Tuple min max\n",
    "print min(a),max(a)"
   ]
  },
  {
   "cell_type": "code",
   "execution_count": 24,
   "metadata": {
    "collapsed": false
   },
   "outputs": [
    {
     "name": "stdout",
     "output_type": "stream",
     "text": [
      "Element 1 is available in tuple a\n"
     ]
    }
   ],
   "source": [
    "# 8.in and not in\n",
    "if 1 in a:    \n",
    "    print \"Element 1 is available in tuple a\"\n",
    "else:\n",
    "    print \"Element 1 is available in tuple a\""
   ]
  },
  {
   "cell_type": "markdown",
   "metadata": {},
   "source": [
    "Tuples are immutable"
   ]
  },
  {
   "cell_type": "code",
   "execution_count": 25,
   "metadata": {
    "collapsed": false
   },
   "outputs": [
    {
     "name": "stdout",
     "output_type": "stream",
     "text": [
      "(10, 9, 8, 7, 6, 5, 4, 3, 2, 1)\n"
     ]
    }
   ],
   "source": [
    "print a[::-1]"
   ]
  },
  {
   "cell_type": "markdown",
   "metadata": {},
   "source": [
    "namedtuple"
   ]
  },
  {
   "cell_type": "code",
   "execution_count": 27,
   "metadata": {
    "collapsed": false
   },
   "outputs": [
    {
     "name": "stdout",
     "output_type": "stream",
     "text": [
      "Manhattan distance between vectors = 1\n"
     ]
    }
   ],
   "source": [
    "from collections import namedtuple\n",
    "\n",
    "vector = namedtuple(\"Dimension\",'x y z')\n",
    "vec_1 = vector(1,1,1)\n",
    "vec_2 = vector(1,0,1)\n",
    "manhattan_distance = abs(vec_1.x - vec_2.x) + abs(vec_1.y - vec_2.y)+ abs(vec_1.z - vec_2.z)\n",
    "print \"Manhattan distance between vectors = %d\"%(manhattan_distance)"
   ]
  },
  {
   "cell_type": "markdown",
   "metadata": {
    "collapsed": true
   },
   "source": [
    "### Using sets"
   ]
  },
  {
   "cell_type": "code",
   "execution_count": 1,
   "metadata": {
    "collapsed": true
   },
   "outputs": [],
   "source": [
    "# 1.Initialize two sentences.\n",
    "st_1 = \"dogs chase cats\"\n",
    "st_2 = \"dogs hate cats\""
   ]
  },
  {
   "cell_type": "code",
   "execution_count": 2,
   "metadata": {
    "collapsed": true
   },
   "outputs": [],
   "source": [
    "# 2.Create set of words from strings\n",
    "st_1_wrds = set(st_1.split())\n",
    "st_2_wrds = set(st_2.split())"
   ]
  },
  {
   "cell_type": "code",
   "execution_count": 3,
   "metadata": {
    "collapsed": true
   },
   "outputs": [],
   "source": [
    "# 3.Find out the number of unique words in each set, vocabulary size.\n",
    "no_wrds_st_1 = len(st_1_wrds)\n",
    "no_wrds_st_2 = len(st_2_wrds)"
   ]
  },
  {
   "cell_type": "code",
   "execution_count": 4,
   "metadata": {
    "collapsed": true
   },
   "outputs": [],
   "source": [
    "# 4.Find out the list of common words between the two sets.\n",
    "# Also find out the count of common words.\n",
    "cmn_wrds = st_1_wrds.intersection(st_2_wrds)\n",
    "no_cmn_wrds = len(st_1_wrds.intersection(st_2_wrds))"
   ]
  },
  {
   "cell_type": "code",
   "execution_count": 5,
   "metadata": {
    "collapsed": true
   },
   "outputs": [],
   "source": [
    "# 5.Get a list of unique words between the two sets.\n",
    "# Also find out the count of unique words.\n",
    "unq_wrds = st_1_wrds.union(st_2_wrds)\n",
    "no_unq_wrds = len(st_1_wrds.union(st_2_wrds))"
   ]
  },
  {
   "cell_type": "code",
   "execution_count": 6,
   "metadata": {
    "collapsed": true
   },
   "outputs": [],
   "source": [
    "# 6.Calculate Jaccard similarity \n",
    "similarity = no_cmn_wrds / (1.0 * no_unq_wrds)"
   ]
  },
  {
   "cell_type": "code",
   "execution_count": 7,
   "metadata": {
    "collapsed": false
   },
   "outputs": [
    {
     "name": "stdout",
     "output_type": "stream",
     "text": [
      "No words in sent_1 = 3\n",
      "Sentence 1 words = set(['cats', 'dogs', 'chase'])\n",
      "No words in sent_2 = 3\n",
      "Sentence 2 words = set(['cats', 'hate', 'dogs'])\n",
      "No words in common = 2\n",
      "Common words = set(['cats', 'dogs'])\n",
      "Total unique words = 4\n",
      "Unique words= set(['cats', 'hate', 'dogs', 'chase'])\n",
      "Similarity = No words in common/No unique words, 2/4 = 0.50\n"
     ]
    }
   ],
   "source": [
    "# 7.Let us now print to grasp our output.\n",
    "print \"No words in sent_1 = %d\"%(no_wrds_st_1)\n",
    "print \"Sentence 1 words =\", st_1_wrds\n",
    "print \"No words in sent_2 = %d\"%(no_wrds_st_2)\n",
    "print \"Sentence 2 words =\", st_2_wrds\n",
    "print \"No words in common = %d\"%(no_cmn_wrds)\n",
    "print \"Common words =\", cmn_wrds\n",
    "print \"Total unique words = %d\"%(no_unq_wrds)\n",
    "print \"Unique words=\",unq_wrds\n",
    "print \"Similarity = No words in common/No unique words, %d/%d = %.2f\"%(no_cmn_wrds,no_unq_wrds,similarity)"
   ]
  },
  {
   "cell_type": "code",
   "execution_count": 8,
   "metadata": {
    "collapsed": false
   },
   "outputs": [
    {
     "data": {
      "text/plain": [
       "{1, 2}"
      ]
     },
     "execution_count": 8,
     "metadata": {},
     "output_type": "execute_result"
    }
   ],
   "source": [
    "a =(1,2,1)\n",
    "set(a)"
   ]
  },
  {
   "cell_type": "code",
   "execution_count": 9,
   "metadata": {
    "collapsed": false
   },
   "outputs": [
    {
     "data": {
      "text/plain": [
       "{1, 2}"
      ]
     },
     "execution_count": 9,
     "metadata": {},
     "output_type": "execute_result"
    }
   ],
   "source": [
    "b =[1,2,1]\n",
    "set(b)"
   ]
  },
  {
   "cell_type": "markdown",
   "metadata": {},
   "source": [
    "Use sklearn library instead"
   ]
  },
  {
   "cell_type": "code",
   "execution_count": 11,
   "metadata": {
    "collapsed": true
   },
   "outputs": [],
   "source": [
    "# Load libraries\n",
    "from sklearn.metrics import jaccard_similarity_score\n",
    "# 1.Initialize two sentences.\n",
    "st_1 = \"dogs chase cats\"\n",
    "st_2 = \"dogs hate cats\""
   ]
  },
  {
   "cell_type": "code",
   "execution_count": 14,
   "metadata": {
    "collapsed": false
   },
   "outputs": [
    {
     "name": "stdout",
     "output_type": "stream",
     "text": [
      "[1, 0, 1, 1]\n",
      "[1, 1, 1, 0]\n",
      "0.5\n"
     ]
    }
   ],
   "source": [
    "# 2.Create set of words from strings\n",
    "st_1_wrds = set(st_1.split())\n",
    "st_2_wrds = set(st_2.split())\n",
    "unq_wrds = st_1_wrds.union(st_2_wrds)\n",
    "a  = [ 1 if w in st_1_wrds else 0 for w in unq_wrds ]\n",
    "b  = [ 1 if w in st_2_wrds else 0 for w in unq_wrds]\n",
    "print a\n",
    "print b\n",
    "print jaccard_similarity_score(a,b)"
   ]
  },
  {
   "cell_type": "markdown",
   "metadata": {},
   "source": [
    "### Writing a list"
   ]
  },
  {
   "cell_type": "code",
   "execution_count": 1,
   "metadata": {
    "collapsed": false
   },
   "outputs": [
    {
     "name": "stdout",
     "output_type": "stream",
     "text": [
      "[1, 2, 3, 4, 5, 6, 7, 8, 9]\n",
      "['a', 'b', 'c']\n"
     ]
    }
   ],
   "source": [
    "# 1.Let us look at a quick example of list creation. \n",
    "a = range(1,10)\n",
    "print a\n",
    "b = [\"a\",\"b\",\"c\"]\n",
    "print b"
   ]
  },
  {
   "cell_type": "code",
   "execution_count": 2,
   "metadata": {
    "collapsed": false
   },
   "outputs": [
    {
     "name": "stdout",
     "output_type": "stream",
     "text": [
      "1\n"
     ]
    }
   ],
   "source": [
    "# 2.List can be accessed through indexing. Indexing starts at 0.\n",
    "print a[0]"
   ]
  },
  {
   "cell_type": "code",
   "execution_count": 3,
   "metadata": {
    "collapsed": false
   },
   "outputs": [
    {
     "data": {
      "text/plain": [
       "9"
      ]
     },
     "execution_count": 3,
     "metadata": {},
     "output_type": "execute_result"
    }
   ],
   "source": [
    "# 3.With negative indexing the elements of a list are accessed from backwards.\n",
    "a[-1]"
   ]
  },
  {
   "cell_type": "code",
   "execution_count": 4,
   "metadata": {
    "collapsed": false
   },
   "outputs": [
    {
     "name": "stdout",
     "output_type": "stream",
     "text": [
      "[2, 3]\n",
      "[2, 3, 4, 5, 6, 7, 8, 9]\n",
      "[9]\n",
      "[1, 2, 3, 4, 5, 6, 7, 8]\n"
     ]
    }
   ],
   "source": [
    "# 4.Slicing is accessing a subset of list by providing two indices.\n",
    "print a[1:3]  # prints [2, 3]\n",
    "print a[1:]   # prints [2, 3, 4, 5, 6, 7, 8, 9]\n",
    "print a[-1:]  # prints [9]\n",
    "print a[:-1]  # prints [1, 2, 3, 4, 5, 6, 7, 8]"
   ]
  },
  {
   "cell_type": "code",
   "execution_count": 5,
   "metadata": {
    "collapsed": false
   },
   "outputs": [
    {
     "name": "stdout",
     "output_type": "stream",
     "text": [
      "[1, 2, 3, 4]\n"
     ]
    }
   ],
   "source": [
    "#5.List concatenation\n",
    "a = [1,2]\n",
    "b = [3,4]\n",
    "print a + b # prints [1, 2, 3, 4]"
   ]
  },
  {
   "cell_type": "code",
   "execution_count": 6,
   "metadata": {
    "collapsed": false
   },
   "outputs": [
    {
     "name": "stdout",
     "output_type": "stream",
     "text": [
      "1 2\n"
     ]
    }
   ],
   "source": [
    "# 6.List  min max\n",
    "print min(a),max(a)"
   ]
  },
  {
   "cell_type": "code",
   "execution_count": 7,
   "metadata": {
    "collapsed": false
   },
   "outputs": [
    {
     "name": "stdout",
     "output_type": "stream",
     "text": [
      "Element 1 is available in list a\n"
     ]
    }
   ],
   "source": [
    "# 7.in and not in\n",
    "if 1 in a:    \n",
    "    print \"Element 1 is available in list a\"\n",
    "else:    \n",
    "    print \"Element 1 is available in tuple a\""
   ]
  },
  {
   "cell_type": "code",
   "execution_count": 8,
   "metadata": {
    "collapsed": false
   },
   "outputs": [
    {
     "name": "stdout",
     "output_type": "stream",
     "text": [
      "[1, 2, 3, 4, 5, 6, 7, 8, 9]\n",
      "[1, 2, 3, 4, 5, 6, 7, 8, 9, 10]\n"
     ]
    }
   ],
   "source": [
    "# 8. Appending and extending list\n",
    "a = range(1,10)\n",
    "print a\n",
    "a.append(10)\n",
    "print a"
   ]
  },
  {
   "cell_type": "code",
   "execution_count": 9,
   "metadata": {
    "collapsed": false
   },
   "outputs": [
    {
     "name": "stdout",
     "output_type": "stream",
     "text": [
      "3\n",
      "2\n",
      "1\n"
     ]
    }
   ],
   "source": [
    "# 9.List as a stack\n",
    "a_stack = []\n",
    "a_stack.append(1)\n",
    "a_stack.append(2)\n",
    "a_stack.append(3)\n",
    "print a_stack.pop()\n",
    "print a_stack.pop()\n",
    "print a_stack.pop()"
   ]
  },
  {
   "cell_type": "code",
   "execution_count": 10,
   "metadata": {
    "collapsed": false
   },
   "outputs": [
    {
     "name": "stdout",
     "output_type": "stream",
     "text": [
      "1\n",
      "2\n",
      "3\n"
     ]
    }
   ],
   "source": [
    "# 10.List as queue\n",
    "a_queue = []\n",
    "a_queue.append(1)\n",
    "a_queue.append(2)\n",
    "a_queue.append(3)\n",
    "print a_queue.pop(0)\n",
    "print a_queue.pop(0)\n",
    "print a_queue.pop(0)"
   ]
  },
  {
   "cell_type": "code",
   "execution_count": 11,
   "metadata": {
    "collapsed": false
   },
   "outputs": [
    {
     "name": "stdout",
     "output_type": "stream",
     "text": [
      "[13, 6, 16, 4, 3, 15, 17, 19, 8, 1, 7, 2, 14, 10, 5, 9, 18, 12, 11]\n",
      "[1, 2, 3, 4, 5, 6, 7, 8, 9, 10, 11, 12, 13, 14, 15, 16, 17, 18, 19]\n",
      "[19, 18, 17, 16, 15, 14, 13, 12, 11, 10, 9, 8, 7, 6, 5, 4, 3, 2, 1]\n"
     ]
    }
   ],
   "source": [
    "# 11.List sort and reverse\n",
    "from random import shuffle\n",
    "a = range(1,20)\n",
    "shuffle(a)\n",
    "print a\n",
    "a.sort()\n",
    "print a\n",
    "a.reverse()\n",
    "print a"
   ]
  },
  {
   "cell_type": "markdown",
   "metadata": {
    "collapsed": true
   },
   "source": [
    "### Creating a list from another list - list comprehension"
   ]
  },
  {
   "cell_type": "code",
   "execution_count": 1,
   "metadata": {
    "collapsed": true
   },
   "outputs": [],
   "source": [
    "# 1.Let us define a simple list with some positive and negative numbers.\n",
    "a = [1,2,-1,-2,3,4,-3,-4]"
   ]
  },
  {
   "cell_type": "code",
   "execution_count": 2,
   "metadata": {
    "collapsed": true
   },
   "outputs": [],
   "source": [
    "# 2.Now let us write our list comprehension.\n",
    "# pow() a power function takes two input and\n",
    "# its output is the first variable raised to the power of the second.\n",
    "b = [pow(x,2) for x in a if x < 0]"
   ]
  },
  {
   "cell_type": "code",
   "execution_count": 3,
   "metadata": {
    "collapsed": false
   },
   "outputs": [
    {
     "name": "stdout",
     "output_type": "stream",
     "text": [
      "[1, 4, 9, 16]\n"
     ]
    }
   ],
   "source": [
    "# 3.Finally let us see the output, i.e. the newly created list b.\n",
    "print b"
   ]
  },
  {
   "cell_type": "markdown",
   "metadata": {},
   "source": [
    "For dictionaries"
   ]
  },
  {
   "cell_type": "code",
   "execution_count": 4,
   "metadata": {
    "collapsed": false
   },
   "outputs": [
    {
     "name": "stdout",
     "output_type": "stream",
     "text": [
      "{'a': 1, 'c': 9, 'b': 4}\n"
     ]
    }
   ],
   "source": [
    "a = {'a':1,'b':2,'c':3}\n",
    "b = {x:pow(y,2) for x,y in a.items()}\n",
    "print b"
   ]
  },
  {
   "cell_type": "markdown",
   "metadata": {},
   "source": [
    "Tuple Comprehension"
   ]
  },
  {
   "cell_type": "code",
   "execution_count": 6,
   "metadata": {
    "collapsed": false
   },
   "outputs": [
    {
     "name": "stdout",
     "output_type": "stream",
     "text": [
      "(1, 4, 1, 4, 'd', 9, 16, 9, 'a')\n"
     ]
    }
   ],
   "source": [
    "def process(x):    \n",
    "    if isinstance(x,str):        \n",
    "        return x.lower()    \n",
    "    elif isinstance(x,int):        \n",
    "        return x*x    \n",
    "    else:        \n",
    "        return -9\n",
    "    \n",
    "a = (1,2,-1,-2,'D',3,4,-3,'A')\n",
    "b = tuple(process(x) for x in a )\n",
    "print b"
   ]
  },
  {
   "cell_type": "markdown",
   "metadata": {},
   "source": [
    "### Using iterators"
   ]
  },
  {
   "cell_type": "code",
   "execution_count": 1,
   "metadata": {
    "collapsed": true
   },
   "outputs": [],
   "source": [
    "# 1.Let us write a simple iterator.\n",
    "class SimpleCounter(object):    \n",
    "    def __init__(self, start, end):        \n",
    "        self.current = start        \n",
    "        self.end = end    \n",
    "    def __iter__(self):        \n",
    "        'Returns itself as an iterator object'        \n",
    "        return self    \n",
    "    def next(self):        \n",
    "        'Returns the next value till current is lower than end'        \n",
    "        if self.current > self.end:            \n",
    "            raise StopIteration        \n",
    "        else:            \n",
    "            self.current += 1            \n",
    "            return self.current - 1"
   ]
  },
  {
   "cell_type": "code",
   "execution_count": 2,
   "metadata": {
    "collapsed": false
   },
   "outputs": [
    {
     "name": "stdout",
     "output_type": "stream",
     "text": [
      "1\n",
      "2\n",
      "3\n"
     ]
    },
    {
     "ename": "StopIteration",
     "evalue": "",
     "output_type": "error",
     "traceback": [
      "\u001b[1;31m---------------------------------------------------------------------------\u001b[0m",
      "\u001b[1;31mStopIteration\u001b[0m                             Traceback (most recent call last)",
      "\u001b[1;32m<ipython-input-2-7fe3971834f0>\u001b[0m in \u001b[0;36m<module>\u001b[1;34m()\u001b[0m\n\u001b[0;32m      4\u001b[0m \u001b[1;32mprint\u001b[0m \u001b[0mc\u001b[0m\u001b[1;33m.\u001b[0m\u001b[0mnext\u001b[0m\u001b[1;33m(\u001b[0m\u001b[1;33m)\u001b[0m\u001b[1;33m\u001b[0m\u001b[0m\n\u001b[0;32m      5\u001b[0m \u001b[1;32mprint\u001b[0m \u001b[0mc\u001b[0m\u001b[1;33m.\u001b[0m\u001b[0mnext\u001b[0m\u001b[1;33m(\u001b[0m\u001b[1;33m)\u001b[0m\u001b[1;33m\u001b[0m\u001b[0m\n\u001b[1;32m----> 6\u001b[1;33m \u001b[1;32mprint\u001b[0m \u001b[0mc\u001b[0m\u001b[1;33m.\u001b[0m\u001b[0mnext\u001b[0m\u001b[1;33m(\u001b[0m\u001b[1;33m)\u001b[0m\u001b[1;33m\u001b[0m\u001b[0m\n\u001b[0m",
      "\u001b[1;32m<ipython-input-1-3ac24b4c17fa>\u001b[0m in \u001b[0;36mnext\u001b[1;34m(self)\u001b[0m\n\u001b[0;32m     10\u001b[0m         \u001b[1;34m'Returns the next value till current is lower than end'\u001b[0m\u001b[1;33m\u001b[0m\u001b[0m\n\u001b[0;32m     11\u001b[0m         \u001b[1;32mif\u001b[0m \u001b[0mself\u001b[0m\u001b[1;33m.\u001b[0m\u001b[0mcurrent\u001b[0m \u001b[1;33m>\u001b[0m \u001b[0mself\u001b[0m\u001b[1;33m.\u001b[0m\u001b[0mend\u001b[0m\u001b[1;33m:\u001b[0m\u001b[1;33m\u001b[0m\u001b[0m\n\u001b[1;32m---> 12\u001b[1;33m             \u001b[1;32mraise\u001b[0m \u001b[0mStopIteration\u001b[0m\u001b[1;33m\u001b[0m\u001b[0m\n\u001b[0m\u001b[0;32m     13\u001b[0m         \u001b[1;32melse\u001b[0m\u001b[1;33m:\u001b[0m\u001b[1;33m\u001b[0m\u001b[0m\n\u001b[0;32m     14\u001b[0m             \u001b[0mself\u001b[0m\u001b[1;33m.\u001b[0m\u001b[0mcurrent\u001b[0m \u001b[1;33m+=\u001b[0m \u001b[1;36m1\u001b[0m\u001b[1;33m\u001b[0m\u001b[0m\n",
      "\u001b[1;31mStopIteration\u001b[0m: "
     ]
    }
   ],
   "source": [
    "# 2.Now let us try to access the iterator\n",
    "c = SimpleCounter(1,3)\n",
    "print c.next()\n",
    "print c.next()\n",
    "print c.next()\n",
    "print c.next()"
   ]
  },
  {
   "cell_type": "code",
   "execution_count": 3,
   "metadata": {
    "collapsed": true
   },
   "outputs": [],
   "source": [
    "# 3.Another way to access\n",
    "for entry in iter(c):    \n",
    "    print entry     "
   ]
  },
  {
   "cell_type": "code",
   "execution_count": 7,
   "metadata": {
    "collapsed": false
   },
   "outputs": [
    {
     "name": "stdout",
     "output_type": "stream",
     "text": [
      "a\n",
      "\n",
      "b\n",
      "\n",
      "c\n",
      "\n",
      "d\n"
     ]
    }
   ],
   "source": [
    "#f = open(some_file_of_interest)\n",
    "f = open('file_of_interest.txt')\n",
    "for l in iter(f):\n",
    "    print l\n",
    "f.close()"
   ]
  },
  {
   "cell_type": "markdown",
   "metadata": {},
   "source": [
    "### Generating an iterator and a generator"
   ]
  },
  {
   "cell_type": "code",
   "execution_count": 8,
   "metadata": {
    "collapsed": false
   },
   "outputs": [
    {
     "name": "stdout",
     "output_type": "stream",
     "text": [
      "285\n"
     ]
    }
   ],
   "source": [
    "SimpleCounter  = (x**2 for x in range(1,10))\n",
    "tot = 0\n",
    "for val in SimpleCounter:    \n",
    "    tot+=val\n",
    "print tot    "
   ]
  },
  {
   "cell_type": "code",
   "execution_count": 9,
   "metadata": {
    "collapsed": false
   },
   "outputs": [
    {
     "name": "stdout",
     "output_type": "stream",
     "text": [
      "285\n"
     ]
    }
   ],
   "source": [
    "def my_gen(low,high):    \n",
    "    for x in range(low,high):        \n",
    "        yield x**2\n",
    "        \n",
    "tot = 0        \n",
    "for val in my_gen(1,10):    \n",
    "        tot+=val\n",
    "print tot    "
   ]
  },
  {
   "cell_type": "markdown",
   "metadata": {
    "collapsed": true
   },
   "source": [
    "Both generators and iterables produce iterators"
   ]
  },
  {
   "cell_type": "code",
   "execution_count": 1,
   "metadata": {
    "collapsed": false
   },
   "outputs": [
    {
     "name": "stdout",
     "output_type": "stream",
     "text": [
      "1\n",
      "4\n",
      "9\n",
      "16\n",
      "25\n",
      "36\n",
      "49\n",
      "64\n",
      "81\n"
     ]
    }
   ],
   "source": [
    "gen = (x**2 for x in range(1,10))\n",
    "for val in iter(gen):    \n",
    "    print val"
   ]
  },
  {
   "cell_type": "markdown",
   "metadata": {},
   "source": [
    "Generator - can only iterate over data once!"
   ]
  },
  {
   "cell_type": "markdown",
   "metadata": {},
   "source": [
    "### Using iterables"
   ]
  },
  {
   "cell_type": "markdown",
   "metadata": {},
   "source": [
    "Similar to generators except can iterate on and on"
   ]
  },
  {
   "cell_type": "code",
   "execution_count": 3,
   "metadata": {
    "collapsed": true
   },
   "outputs": [],
   "source": [
    "# 1.Let us define a simple class with __iter__ method.\n",
    "class SimpleIterable(object):    \n",
    "    def __init__(self, start, end):        \n",
    "        self.start = start        \n",
    "        self.end = end    \n",
    "    def __iter__(self):        \n",
    "        for x in range(self.start,self.end):            \n",
    "            yield x**2\n",
    "            \n",
    "#  Now let us invoke this class and iterate over its values two times.\n",
    "c = SimpleIterable(1,10)"
   ]
  },
  {
   "cell_type": "code",
   "execution_count": 4,
   "metadata": {
    "collapsed": false
   },
   "outputs": [
    {
     "name": "stdout",
     "output_type": "stream",
     "text": [
      "285\n"
     ]
    }
   ],
   "source": [
    "# First iteration\n",
    "tot = 0\n",
    "for val in iter(c):    \n",
    "    tot+=val\n",
    "print tot"
   ]
  },
  {
   "cell_type": "code",
   "execution_count": 5,
   "metadata": {
    "collapsed": false
   },
   "outputs": [
    {
     "name": "stdout",
     "output_type": "stream",
     "text": [
      "285\n"
     ]
    }
   ],
   "source": [
    "# Second iteration\n",
    "tot =0\n",
    "for val in iter(c):    \n",
    "    tot+=val\n",
    "print tot"
   ]
  },
  {
   "cell_type": "markdown",
   "metadata": {
    "collapsed": true
   },
   "source": [
    "### Passing a function as a variable"
   ]
  },
  {
   "cell_type": "code",
   "execution_count": 1,
   "metadata": {
    "collapsed": false
   },
   "outputs": [
    {
     "name": "stdout",
     "output_type": "stream",
     "text": [
      "25\n"
     ]
    }
   ],
   "source": [
    "# 1.Let us define a simple function.\n",
    "def square_input(x):    \n",
    "    return x*x\n",
    "\n",
    "# We will follow it by assigning that function to a variable\n",
    "square_me = square_input\n",
    "# And finally invoke the variable\n",
    "print square_me(5)    "
   ]
  },
  {
   "cell_type": "markdown",
   "metadata": {},
   "source": [
    "### Embedding functions in another function"
   ]
  },
  {
   "cell_type": "code",
   "execution_count": 2,
   "metadata": {
    "collapsed": false
   },
   "outputs": [
    {
     "name": "stdout",
     "output_type": "stream",
     "text": [
      "45\n"
     ]
    }
   ],
   "source": [
    "# 1.Let us define a function of function to find the sum of squares of the given input\n",
    "def sum_square(x):    \n",
    "    def square_input(x):        \n",
    "        return x*x    \n",
    "    return sum([square_input(x1) for x1 in x])\n",
    "\n",
    "# Print the output to check for correctness\n",
    "print sum_square([2,4,5])   "
   ]
  },
  {
   "cell_type": "markdown",
   "metadata": {},
   "source": [
    "### Passing a function as a parameter"
   ]
  },
  {
   "cell_type": "code",
   "execution_count": 3,
   "metadata": {
    "collapsed": false
   },
   "outputs": [
    {
     "name": "stdout",
     "output_type": "stream",
     "text": [
      "[4, 9, 16]\n",
      "[0.6931471805599453, 1.0986122886681098, 1.3862943611198906]\n"
     ]
    }
   ],
   "source": [
    "from math import log\n",
    "\n",
    "def square_input(x):    \n",
    "    return x*x\n",
    "\n",
    "# 1.Define a generic function, which will take another function as input\n",
    "# and will apply it on the given input sequence.\n",
    "def apply_func(func_x,input_x):    \n",
    "    return map(func_x,input_x)\n",
    "\n",
    "# Let us try to use the apply_func() and verify the results  \n",
    "a = [2,3,4]\n",
    "\n",
    "print apply_func(square_input,a)\n",
    "print apply_func(log,a)    "
   ]
  },
  {
   "cell_type": "markdown",
   "metadata": {},
   "source": [
    "### Returning a function"
   ]
  },
  {
   "cell_type": "code",
   "execution_count": 4,
   "metadata": {
    "collapsed": true
   },
   "outputs": [],
   "source": [
    "# 1.Let us define a function which will explain our\n",
    "#  concept of function returning a function.\n",
    "def cylinder_vol(r):    \n",
    "    pi = 3.141    \n",
    "    def get_vol(h):        \n",
    "        return pi * r**2 * h    \n",
    "    return get_vol"
   ]
  },
  {
   "cell_type": "code",
   "execution_count": 5,
   "metadata": {
    "collapsed": true
   },
   "outputs": [],
   "source": [
    "# 2.Let us define a radius and find get a volume function,\n",
    "#  which can now find out the volume for the given radius and any height.\n",
    "radius = 10\n",
    "find_volume = cylinder_vol(radius)"
   ]
  },
  {
   "cell_type": "code",
   "execution_count": 6,
   "metadata": {
    "collapsed": false
   },
   "outputs": [
    {
     "name": "stdout",
     "output_type": "stream",
     "text": [
      "Volume of cylinder of radius 10 and height 10 = 3141.00  cubic units\n",
      "Volume of cylinder of radius 10 and height 20 = 6282.00  cubic units\n"
     ]
    }
   ],
   "source": [
    "# 3.Let us try to find out the volume for different heights\n",
    "height = 10\n",
    "print \"Volume of cylinder of radius %d and height %d = %.2f  cubic units\" \\\n",
    "%(radius,height,find_volume(height))        \n",
    "\n",
    "height = 20\n",
    "print \"Volume of cylinder of radius %d and height %d = %.2f  cubic units\" \\\n",
    "%(radius,height,find_volume(height))  "
   ]
  },
  {
   "cell_type": "markdown",
   "metadata": {},
   "source": [
    "### Altering the function behavior with decorators"
   ]
  },
  {
   "cell_type": "code",
   "execution_count": 7,
   "metadata": {
    "collapsed": true
   },
   "outputs": [],
   "source": [
    "from string import punctuation\n",
    "\n",
    "def pipeline_wrapper(func):    \n",
    "    def to_lower(x):        \n",
    "        return x.lower()        \n",
    "    def remove_punc(x):        \n",
    "        for p in punctuation:            \n",
    "            x = x.replace(p,'')        \n",
    "        return x            \n",
    "    def wrapper(*args,**kwargs):        \n",
    "        x = to_lower(*args,**kwargs)        \n",
    "        x = remove_punc(x)        \n",
    "        return func(x)\n",
    "    return wrapper        "
   ]
  },
  {
   "cell_type": "code",
   "execution_count": 8,
   "metadata": {
    "collapsed": true
   },
   "outputs": [],
   "source": [
    "@pipeline_wrapper        \n",
    "def tokenize_whitespace(inText):    \n",
    "    return inText.split()"
   ]
  },
  {
   "cell_type": "code",
   "execution_count": 9,
   "metadata": {
    "collapsed": false
   },
   "outputs": [
    {
     "name": "stdout",
     "output_type": "stream",
     "text": [
      "['string', 'with', 'punctuation']\n"
     ]
    }
   ],
   "source": [
    "s = \"string. With. Punctuation?\"    \n",
    "print tokenize_whitespace(s)"
   ]
  },
  {
   "cell_type": "markdown",
   "metadata": {
    "collapsed": true
   },
   "source": [
    "### Creating anonymous functions with lambda"
   ]
  },
  {
   "cell_type": "code",
   "execution_count": 1,
   "metadata": {
    "collapsed": false
   },
   "outputs": [
    {
     "name": "stdout",
     "output_type": "stream",
     "text": [
      "1400\n",
      "36000\n"
     ]
    }
   ],
   "source": [
    "# 1.Create a simple list and a function similar to the\n",
    "# one in functions as parameter section.\n",
    "a = [10,20,30]\n",
    "\n",
    "def do_list(a_list,func):    \n",
    "    total = 0    \n",
    "    for element in a_list:        \n",
    "        total+=func(element)    \n",
    "    return total\n",
    "\n",
    "print do_list(a,lambda x:x**2)   \n",
    "print do_list(a,lambda x:x**3)   \n",
    "\n",
    "b = [lambda x: x%3 ==0  for x in a]"
   ]
  },
  {
   "cell_type": "markdown",
   "metadata": {},
   "source": [
    "### Using the map function"
   ]
  },
  {
   "cell_type": "code",
   "execution_count": 4,
   "metadata": {
    "collapsed": false
   },
   "outputs": [
    {
     "name": "stdout",
     "output_type": "stream",
     "text": [
      "[100, 400, 900]\n"
     ]
    }
   ],
   "source": [
    "#First let us declare a list.\n",
    "a =[10,20,30]\n",
    "# Let us now call the map function in our Print statement.\n",
    "print map(lambda x:x**2,a)   "
   ]
  },
  {
   "cell_type": "code",
   "execution_count": 5,
   "metadata": {
    "collapsed": false
   },
   "outputs": [
    {
     "name": "stdout",
     "output_type": "stream",
     "text": [
      "[1000, 8000, 27000]\n"
     ]
    }
   ],
   "source": [
    "print map(lambda x:x**3,a)"
   ]
  },
  {
   "cell_type": "code",
   "execution_count": 6,
   "metadata": {
    "collapsed": false
   },
   "outputs": [
    {
     "name": "stdout",
     "output_type": "stream",
     "text": [
      "1400\n",
      "36000\n"
     ]
    }
   ],
   "source": [
    "print sum(map(lambda x:x**2,a))\n",
    "print sum(map(lambda x:x**3,a))"
   ]
  },
  {
   "cell_type": "markdown",
   "metadata": {},
   "source": [
    "Map expects an N-argument function if we have N-sequences."
   ]
  },
  {
   "cell_type": "code",
   "execution_count": 7,
   "metadata": {
    "collapsed": false
   },
   "outputs": [
    {
     "name": "stdout",
     "output_type": "stream",
     "text": [
      "[10, 400, 27000]\n"
     ]
    }
   ],
   "source": [
    "a =[10,20,30]\n",
    "b = [1,2,3]\n",
    "print map(pow,a,b) "
   ]
  },
  {
   "cell_type": "markdown",
   "metadata": {},
   "source": [
    "### Working with filters"
   ]
  },
  {
   "cell_type": "code",
   "execution_count": 8,
   "metadata": {
    "collapsed": false
   },
   "outputs": [
    {
     "name": "stdout",
     "output_type": "stream",
     "text": [
      "[20, 30, 40, 50]\n"
     ]
    }
   ],
   "source": [
    "# Let us declare a list.\n",
    "a = [10,20,30,40,50]\n",
    "# Let us apply Filter function on all the elements of the list.\n",
    "print filter(lambda x:x>10,a)"
   ]
  },
  {
   "cell_type": "markdown",
   "metadata": {},
   "source": [
    "### Using zip and izip"
   ]
  },
  {
   "cell_type": "code",
   "execution_count": 10,
   "metadata": {
    "collapsed": false,
    "scrolled": true
   },
   "outputs": [
    {
     "name": "stdout",
     "output_type": "stream",
     "text": [
      "[(1, 1), (2, 2), (3, 3), (4, 4)]\n"
     ]
    }
   ],
   "source": [
    "print zip(range(1,5), range(1,5))"
   ]
  },
  {
   "cell_type": "code",
   "execution_count": 12,
   "metadata": {
    "collapsed": true
   },
   "outputs": [],
   "source": [
    "out = zip(range(1,5), range(1,5))"
   ]
  },
  {
   "cell_type": "markdown",
   "metadata": {},
   "source": [
    "\\* unpacks a collection. \\** unpacks a dictionary"
   ]
  },
  {
   "cell_type": "code",
   "execution_count": 13,
   "metadata": {
    "collapsed": false
   },
   "outputs": [
    {
     "name": "stdout",
     "output_type": "stream",
     "text": [
      "(1, 2, 3, 4) (1, 2, 3, 4)\n"
     ]
    }
   ],
   "source": [
    "x, y = zip(*out)\n",
    "print x, y"
   ]
  },
  {
   "cell_type": "code",
   "execution_count": 16,
   "metadata": {
    "collapsed": false
   },
   "outputs": [
    {
     "name": "stdout",
     "output_type": "stream",
     "text": [
      "8\n"
     ]
    }
   ],
   "source": [
    "a =(2,3)\n",
    "print pow(*a)"
   ]
  },
  {
   "cell_type": "code",
   "execution_count": 17,
   "metadata": {
    "collapsed": false
   },
   "outputs": [
    {
     "name": "stdout",
     "output_type": "stream",
     "text": [
      "{'z': 10, 'y1': 10, 'y': 10, 'x': 10, 'x1': 10, 'z1': 10}\n"
     ]
    }
   ],
   "source": [
    "a_dict = {\"x\":10,\"y\":10,\"z\":10,\"x1\":10,\"y1\":10,\"z1\":10}\n",
    "print a_dict"
   ]
  },
  {
   "cell_type": "code",
   "execution_count": 19,
   "metadata": {
    "collapsed": false
   },
   "outputs": [
    {
     "name": "stdout",
     "output_type": "stream",
     "text": [
      "0\n"
     ]
    }
   ],
   "source": [
    "def dist(x,y,z,x1,y1,z1):\n",
    "    return abs((x-x1)+(y-y1)+(z-z1))\n",
    "\n",
    "print dist(**a_dict) "
   ]
  },
  {
   "cell_type": "markdown",
   "metadata": {},
   "source": [
    "Can now write a function without restrictions on number of variables it can ingest"
   ]
  },
  {
   "cell_type": "code",
   "execution_count": null,
   "metadata": {
    "collapsed": true
   },
   "outputs": [],
   "source": [
    "def any_sum(*args):\n",
    "    tot = 0\n",
    "    for arg in args:\n",
    "        tot+=arg\n",
    "    return tot\n",
    "\n",
    "print any_sum(1,2)\n",
    "print any_sum(1,2,3)"
   ]
  },
  {
   "cell_type": "markdown",
   "metadata": {},
   "source": [
    "### Processing arrays from the tabular data"
   ]
  },
  {
   "cell_type": "code",
   "execution_count": 2,
   "metadata": {
    "collapsed": false
   },
   "outputs": [],
   "source": [
    "# 1.Let us simulate a small tablular input using StringIO\n",
    "import numpy as np\n",
    "from StringIO import StringIO\n",
    "in_data = StringIO(\"10,20,30\\n56,89,90\\n33,46,89\")"
   ]
  },
  {
   "cell_type": "code",
   "execution_count": 3,
   "metadata": {
    "collapsed": false
   },
   "outputs": [
    {
     "name": "stdout",
     "output_type": "stream",
     "text": [
      "[[10 20 30]\n",
      " [56 89 90]\n",
      " [33 46 89]]\n",
      "[[10 20]\n",
      " [56 89]\n",
      " [33 46]]\n",
      "[(10, 20, 30) (56, 89, 90) (33, 46, 89)]\n",
      "[(10, 20, 30) (56, 89, 90) (33, 46, 89)]\n"
     ]
    }
   ],
   "source": [
    "# 2.Read the input using numpy's genfromtext to create a nummpy array.\n",
    "data = np.genfromtxt(in_data,dtype=int,delimiter=\",\")\n",
    "print data\n",
    "\n",
    "# cases where we may not need to use some columns.\n",
    "in_data = StringIO(\"10,20,30\\n56,89,90\\n33,46,89\")\n",
    "data = np.genfromtxt(in_data,dtype=int,delimiter=\",\",usecols=(0,1))\n",
    "print data\n",
    "\n",
    "# providing column names\n",
    "in_data = StringIO(\"10,20,30\\n56,89,90\\n33,46,89\")\n",
    "data = np.genfromtxt(in_data,dtype=int,delimiter=\",\",names=\"a,b,c\")\n",
    "print data\n",
    "\n",
    "# using column names from data\n",
    "in_data = StringIO(\"a,b,c\\n10,20,30\\n56,89,90\\n33,46,89\")\n",
    "data = np.genfromtxt(in_data,dtype=int,delimiter=\",\",names=True)\n",
    "print data"
   ]
  },
  {
   "cell_type": "markdown",
   "metadata": {},
   "source": [
    "Default values"
   ]
  },
  {
   "cell_type": "markdown",
   "metadata": {},
   "source": [
    "genfromtxt(fname, dtype=<type 'float'>, comments='#', delimiter=None, skiprows=0, skip_header=0, skip_footer=0, converters=None, missing='', missing_values=None, filling_values=None, usecols=None, names=None, excludelist=None, deletechars=None, replace_space='_', autostrip=False, case_sensitive=True, defaultfmt='f%i', unpack=None, usemask=False, loose=True, invalid_raise=True)"
   ]
  },
  {
   "cell_type": "markdown",
   "metadata": {},
   "source": [
    "The csv library can be very useful. For example, with large CSV files."
   ]
  },
  {
   "cell_type": "code",
   "execution_count": 4,
   "metadata": {
    "collapsed": false
   },
   "outputs": [
    {
     "name": "stdout",
     "output_type": "stream",
     "text": [
      "Help on method sniff in module csv:\n",
      "\n",
      "sniff(self, sample, delimiters=None) unbound csv.Sniffer method\n",
      "    Returns a dialect (or None) corresponding to the sample\n",
      "\n"
     ]
    }
   ],
   "source": [
    "import csv\n",
    "help(csv.Sniffer.sniff)"
   ]
  },
  {
   "cell_type": "code",
   "execution_count": 6,
   "metadata": {
    "collapsed": false
   },
   "outputs": [],
   "source": [
    "with open('csv_file.csv') as t:\n",
    "    dialect = csv.Sniffer().sniff(t.read(1024))\n",
    "    t.seek(0)\n",
    "    reader = csv.reader(t, dialect)"
   ]
  },
  {
   "cell_type": "code",
   "execution_count": 9,
   "metadata": {
    "collapsed": false
   },
   "outputs": [
    {
     "name": "stdout",
     "output_type": "stream",
     "text": [
      "csv.dialect\n",
      "<_csv.reader object at 0x0000000003FECAC8>\n"
     ]
    }
   ],
   "source": [
    "print dialect\n",
    "print reader"
   ]
  },
  {
   "cell_type": "code",
   "execution_count": 11,
   "metadata": {
    "collapsed": false
   },
   "outputs": [
    {
     "name": "stdout",
     "output_type": "stream",
     "text": [
      ",\n",
      "False\n",
      "None\n",
      "\r\n",
      "\n",
      "\"\n",
      "0\n",
      "False\n"
     ]
    }
   ],
   "source": [
    "print dialect.delimiter\n",
    "print dialect.doublequote\n",
    "print dialect.escapechar\n",
    "print dialect.lineterminator\n",
    "print dialect.quotechar\n",
    "print dialect.quoting\n",
    "print dialect.skipinitialspace"
   ]
  },
  {
   "cell_type": "code",
   "execution_count": 14,
   "metadata": {
    "collapsed": false
   },
   "outputs": [
    {
     "name": "stdout",
     "output_type": "stream",
     "text": [
      "True\n"
     ]
    }
   ],
   "source": [
    "with open('csv_file.csv') as t:\n",
    "    print csv.Sniffer().has_header(t.read(1024))"
   ]
  },
  {
   "cell_type": "markdown",
   "metadata": {
    "collapsed": true
   },
   "source": [
    "### Preprocessing the columns"
   ]
  },
  {
   "cell_type": "code",
   "execution_count": 15,
   "metadata": {
    "collapsed": false
   },
   "outputs": [
    {
     "name": "stdout",
     "output_type": "stream",
     "text": [
      "[[   nan    nan  31.11  56.33   1.  ]\n",
      " [   nan    nan  12.    16.7    2.  ]]\n"
     ]
    }
   ],
   "source": [
    "in_data = StringIO(\"30kg,inr2000,31.11,56.33,1\\n52kg,inr8000.35,12,16.7,2\")\n",
    "data = np.genfromtxt(in_data,delimiter=\",\")\n",
    "print data"
   ]
  },
  {
   "cell_type": "code",
   "execution_count": 22,
   "metadata": {
    "collapsed": true
   },
   "outputs": [],
   "source": [
    "import numpy as np\n",
    "from StringIO import StringIO\n",
    "\n",
    "# Define a data set\n",
    "in_data = StringIO(\"30kg,inr2000,31.11,56.33,1\\n52kg,inr8000.35,12,16.7,2\")"
   ]
  },
  {
   "cell_type": "code",
   "execution_count": 23,
   "metadata": {
    "collapsed": true
   },
   "outputs": [],
   "source": [
    "# 1.Let us define two data pre-processing using lambda functions,\n",
    "strip_func_1 = lambda x : float(x.rstrip(\"kg\"))\n",
    "strip_func_2 = lambda x : float(x.lstrip(\"inr\"))"
   ]
  },
  {
   "cell_type": "code",
   "execution_count": 24,
   "metadata": {
    "collapsed": true
   },
   "outputs": [],
   "source": [
    "# 2.Let us now create a dictionary of these functions,\n",
    "convert_funcs = {0:strip_func_1,1:strip_func_2}"
   ]
  },
  {
   "cell_type": "code",
   "execution_count": 25,
   "metadata": {
    "collapsed": false
   },
   "outputs": [
    {
     "name": "stdout",
     "output_type": "stream",
     "text": [
      "[[  3.00000000e+01   2.00000000e+03   3.11100000e+01   5.63300000e+01\n",
      "    1.00000000e+00]\n",
      " [  5.20000000e+01   8.00035000e+03   1.20000000e+01   1.67000000e+01\n",
      "    2.00000000e+00]]\n"
     ]
    }
   ],
   "source": [
    "# 3.Now provide this dictionary of functions to genfromtxt.\n",
    "data = np.genfromtxt(in_data,delimiter=\",\", converters=convert_funcs)\n",
    "print data"
   ]
  },
  {
   "cell_type": "code",
   "execution_count": 26,
   "metadata": {
    "collapsed": false
   },
   "outputs": [
    {
     "name": "stdout",
     "output_type": "stream",
     "text": [
      "[[  10.   20.   30.]\n",
      " [  56. -999.   90.]\n",
      " [  33.   46.   89.]]\n"
     ]
    }
   ],
   "source": [
    "# Using a lambda function to handle conversions\n",
    "in_data = StringIO(\"10,20,30\\n56,,90\\n33,46,89\")\n",
    "mss_func = lambda x: float(x.strip() or -999)\n",
    "data = np.genfromtxt(in_data,delimiter=\",\", converters={1:mss_func})\n",
    "print data"
   ]
  },
  {
   "cell_type": "markdown",
   "metadata": {},
   "source": [
    "### Sorting lists"
   ]
  },
  {
   "cell_type": "code",
   "execution_count": 27,
   "metadata": {
    "collapsed": false
   },
   "outputs": [
    {
     "name": "stdout",
     "output_type": "stream",
     "text": [
      "[8, 0, 3, 4, 5, 2, 9, 6, 7, 1]\n",
      "[0, 1, 2, 3, 4, 5, 6, 7, 8, 9]\n",
      "[8, 0, 3, 4, 5, 2, 9, 6, 7, 1]\n",
      "[0, 1, 2, 3, 4, 5, 6, 7, 8, 9]\n"
     ]
    }
   ],
   "source": [
    "# Let us look at a very small code snippet, which does sorting of a given list.\n",
    "a = [8, 0, 3, 4, 5, 2, 9, 6, 7, 1]\n",
    "b = [8, 0, 3, 4, 5, 2, 9, 6, 7, 1]\n",
    "\n",
    "print a\n",
    "a.sort()\n",
    "print a\n",
    "\n",
    "print b\n",
    "b_s = sorted(b)\n",
    "print b_s"
   ]
  },
  {
   "cell_type": "markdown",
   "metadata": {},
   "source": [
    "Use reverse=True in .sort to get descending order"
   ]
  },
  {
   "cell_type": "markdown",
   "metadata": {},
   "source": [
    "Can only use .sort with lists - need to use sorted with other iterables, e.g. tuples"
   ]
  },
  {
   "cell_type": "markdown",
   "metadata": {},
   "source": [
    "### Sorting with a key"
   ]
  },
  {
   "cell_type": "code",
   "execution_count": 29,
   "metadata": {
    "collapsed": false
   },
   "outputs": [
    {
     "name": "stdout",
     "output_type": "stream",
     "text": [
      "[('joe', 1, 53), ('beck', 2, 26), ('ele', 6, 32), ('neo', 3, 45), ('christ', 5, 33), ('trinity', 4, 29)]\n"
     ]
    }
   ],
   "source": [
    "#1.The first step is to create a list of tuples, which we will use to test our sorting.\n",
    "\n",
    "employee_records = [ ('joe',1,53),('beck',2,26), \\\n",
    "                    ('ele',6,32),('neo',3,45),  \\\n",
    "                    ('christ',5,33),('trinity',4,29), \\\n",
    "                   ]\n",
    "print employee_records"
   ]
  },
  {
   "cell_type": "code",
   "execution_count": 31,
   "metadata": {
    "collapsed": false
   },
   "outputs": [
    {
     "name": "stdout",
     "output_type": "stream",
     "text": [
      "[('beck', 2, 26), ('christ', 5, 33), ('ele', 6, 32), ('joe', 1, 53), ('neo', 3, 45), ('trinity', 4, 29)]\n"
     ]
    },
    {
     "data": {
      "text/plain": [
       "\"It prints as follows [('beck', 2, 26), ('christ', 5, 33), ('ele', 6, 32), ('joe', 1, 53), ('neo', 3, 45), ('trinity', 4, 29)]\""
      ]
     },
     "execution_count": 31,
     "metadata": {},
     "output_type": "execute_result"
    }
   ],
   "source": [
    "#2.Let us now sort it by employee name\n",
    "print sorted(employee_records,key=lambda emp : emp[0])\n",
    "\"\"\"It prints as follows [('beck', 2, 26), ('christ', 5, 33), ('ele', 6, 32), ('joe', 1, 53), ('neo', 3, 45), ('trinity', 4, 29)]\"\"\""
   ]
  },
  {
   "cell_type": "code",
   "execution_count": 32,
   "metadata": {
    "collapsed": false
   },
   "outputs": [
    {
     "name": "stdout",
     "output_type": "stream",
     "text": [
      "[('joe', 1, 53), ('beck', 2, 26), ('neo', 3, 45), ('trinity', 4, 29), ('christ', 5, 33), ('ele', 6, 32)]\n"
     ]
    },
    {
     "data": {
      "text/plain": [
       "\"It prints as follows[('joe', 1, 53), ('beck', 2, 26), ('neo', 3, 45), ('trinity', 4, 29), ('christ', 5, 33), ('ele', 6, 32)]\""
      ]
     },
     "execution_count": 32,
     "metadata": {},
     "output_type": "execute_result"
    }
   ],
   "source": [
    "# 3.Let us now sort it by employee id\n",
    "print sorted(employee_records,key=lambda emp : emp[1])\n",
    "\"\"\"It prints as follows[('joe', 1, 53), ('beck', 2, 26), ('neo', 3, 45), ('trinity', 4, 29), ('christ', 5, 33), ('ele', 6, 32)]\"\"\""
   ]
  },
  {
   "cell_type": "code",
   "execution_count": 33,
   "metadata": {
    "collapsed": false
   },
   "outputs": [
    {
     "name": "stdout",
     "output_type": "stream",
     "text": [
      "[('beck', 2, 26), ('trinity', 4, 29), ('ele', 6, 32), ('christ', 5, 33), ('neo', 3, 45), ('joe', 1, 53)]\n"
     ]
    },
    {
     "data": {
      "text/plain": [
       "\"Its prints as follows[('beck', 2, 26), ('trinity', 4, 29), ('ele', 6, 32), ('christ', 5, 33), ('neo', 3, 45), ('joe', 1, 53)]\""
      ]
     },
     "execution_count": 33,
     "metadata": {},
     "output_type": "execute_result"
    }
   ],
   "source": [
    "# 4.Finally we sort it with employee age\n",
    "print sorted(employee_records,key=lambda emp : emp[2])\n",
    "\"\"\"Its prints as follows[('beck', 2, 26), ('trinity', 4, 29), ('ele', 6, 32), ('christ', 5, 33), ('neo', 3, 45), ('joe', 1, 53)]\"\"\""
   ]
  },
  {
   "cell_type": "markdown",
   "metadata": {},
   "source": [
    "operator module has itemgetter, attrgetter and methodcalled functions"
   ]
  },
  {
   "cell_type": "code",
   "execution_count": 35,
   "metadata": {
    "collapsed": false
   },
   "outputs": [
    {
     "name": "stdout",
     "output_type": "stream",
     "text": [
      "[('beck', 2, 26), ('christ', 5, 33), ('ele', 6, 32), ('joe', 1, 53), ('neo', 3, 45), ('trinity', 4, 29)]\n",
      "[('joe', 1, 53), ('beck', 2, 26), ('neo', 3, 45), ('trinity', 4, 29), ('christ', 5, 33), ('ele', 6, 32)]\n",
      "[('beck', 2, 26), ('trinity', 4, 29), ('ele', 6, 32), ('christ', 5, 33), ('neo', 3, 45), ('joe', 1, 53)]\n"
     ]
    }
   ],
   "source": [
    "from operator import itemgetter\n",
    "employee_records = [ ('joe',1,53),('beck',2,26), \\\n",
    "                    ('ele',6,32),('neo',3,45),  \\\n",
    "                    ('christ',5,33),('trinity',4,29), \\\n",
    "                   ]\n",
    "print sorted(employee_records,key=itemgetter(0))\n",
    "print sorted(employee_records,key=itemgetter(1))\n",
    "print sorted(employee_records,key=itemgetter(2))"
   ]
  },
  {
   "cell_type": "code",
   "execution_count": 37,
   "metadata": {
    "collapsed": false
   },
   "outputs": [
    {
     "data": {
      "text/plain": [
       "[('beck', 2, 26),\n",
       " ('christ', 5, 33),\n",
       " ('ele', 6, 32),\n",
       " ('joe', 1, 53),\n",
       " ('neo', 3, 45),\n",
       " ('trinity', 4, 29)]"
      ]
     },
     "execution_count": 37,
     "metadata": {},
     "output_type": "execute_result"
    }
   ],
   "source": [
    "sorted(employee_records,key=itemgetter(0,1)) # sorts by the 1st columns (name) and then the 2nd column (id)"
   ]
  },
  {
   "cell_type": "markdown",
   "metadata": {},
   "source": [
    "The attrgetter and methodcaller come in handy when the elements of our iterable are class objects"
   ]
  },
  {
   "cell_type": "code",
   "execution_count": 38,
   "metadata": {
    "collapsed": true
   },
   "outputs": [],
   "source": [
    "# Let us now enclose the employee records as class objects,\n",
    "class employee(object):    \n",
    "    def __init__(self,name,id,age):        \n",
    "        self.name = name        \n",
    "        self.id = id        \n",
    "        self.age = age    \n",
    "    def pretty_print(self):       \n",
    "        print self.name,self.id,self.age"
   ]
  },
  {
   "cell_type": "code",
   "execution_count": 39,
   "metadata": {
    "collapsed": true
   },
   "outputs": [],
   "source": [
    "# Now let us populate a list with these class objects.\n",
    "employee_records = []\n",
    "emp1 = employee('joe',1,53)\n",
    "emp2 = employee('beck',2,26)\n",
    "emp3 = employee('ele',6,32)\n",
    "\n",
    "employee_records.append(emp1)\n",
    "employee_records.append(emp2)\n",
    "employee_records.append(emp3)"
   ]
  },
  {
   "cell_type": "code",
   "execution_count": 40,
   "metadata": {
    "collapsed": false
   },
   "outputs": [
    {
     "name": "stdout",
     "output_type": "stream",
     "text": [
      "joe 1 53\n",
      "beck 2 26\n",
      "ele 6 32\n"
     ]
    }
   ],
   "source": [
    "# Print the records\n",
    "for emp in employee_records:    \n",
    "    emp.pretty_print()"
   ]
  },
  {
   "cell_type": "code",
   "execution_count": 41,
   "metadata": {
    "collapsed": false
   },
   "outputs": [
    {
     "name": "stdout",
     "output_type": "stream",
     "text": [
      "beck 2 26\n",
      "ele 6 32\n",
      "joe 1 53\n"
     ]
    }
   ],
   "source": [
    "from operator import attrgetter\n",
    "employee_records_sorted = sorted(employee_records,key=attrgetter('age'))\n",
    "# Now let us print the sorted list,\n",
    "for emp in employee_records_sorted:    \n",
    "    emp.pretty_print()"
   ]
  },
  {
   "cell_type": "markdown",
   "metadata": {},
   "source": [
    "Methodcaller"
   ]
  },
  {
   "cell_type": "code",
   "execution_count": 42,
   "metadata": {
    "collapsed": true
   },
   "outputs": [],
   "source": [
    "class employee(object):    \n",
    "    def __init__(self,name,id,age):        \n",
    "        self.name = name        \n",
    "        self.id = id        \n",
    "        self.age = age    \n",
    "    def pretty_print(self):       \n",
    "        print self.name,self.id,self.age\n",
    "    def random_method(self):       \n",
    "        return self.age / self.id "
   ]
  },
  {
   "cell_type": "code",
   "execution_count": 43,
   "metadata": {
    "collapsed": true
   },
   "outputs": [],
   "source": [
    "# Populate data\n",
    "employee_records = []\n",
    "\n",
    "emp1 = employee('joe',1,53)\n",
    "emp2 = employee('beck',2,26)\n",
    "emp3 = employee('ele',6,32)\n",
    "\n",
    "employee_records.append(emp1)\n",
    "employee_records.append(emp2)\n",
    "employee_records.append(emp3)"
   ]
  },
  {
   "cell_type": "code",
   "execution_count": 44,
   "metadata": {
    "collapsed": false
   },
   "outputs": [
    {
     "name": "stdout",
     "output_type": "stream",
     "text": [
      "ele 6 32\n",
      "beck 2 26\n",
      "joe 1 53\n"
     ]
    }
   ],
   "source": [
    "from operator import methodcaller\n",
    "employee_records_sorted = sorted(employee_records,key=methodcaller('random_method'))\n",
    "for emp in employee_records_sorted:    \n",
    "    emp.pretty_print() "
   ]
  },
  {
   "cell_type": "markdown",
   "metadata": {},
   "source": [
    "### Working with itertools"
   ]
  },
  {
   "cell_type": "code",
   "execution_count": 1,
   "metadata": {
    "collapsed": true
   },
   "outputs": [],
   "source": [
    "# Load libraries\n",
    "from itertools import chain,compress,combinations,count,izip,islice"
   ]
  },
  {
   "cell_type": "code",
   "execution_count": 2,
   "metadata": {
    "collapsed": false
   },
   "outputs": [
    {
     "name": "stdout",
     "output_type": "stream",
     "text": [
      "[1, 2, 3, 'a', 'b', 'c']\n"
     ]
    }
   ],
   "source": [
    "# 1.Chain example, where different iterables can be combined together.\n",
    "a = [1,2,3]\n",
    "b = ['a','b','c']\n",
    "print list(chain(a,b)) # prints [1, 2, 3, 'a', 'b', 'c']"
   ]
  },
  {
   "cell_type": "code",
   "execution_count": 3,
   "metadata": {
    "collapsed": false
   },
   "outputs": [
    {
     "name": "stdout",
     "output_type": "stream",
     "text": [
      "[1, 3]\n"
     ]
    }
   ],
   "source": [
    "# 2.Compress example, a data selector, where the data in the first iterator\n",
    "#  is selected based on the second iterator.\n",
    "a = [1,2,3]\n",
    "b = [1,0,1]\n",
    "print list(compress(a,b)) # prints [1, 3]"
   ]
  },
  {
   "cell_type": "code",
   "execution_count": 4,
   "metadata": {
    "collapsed": false
   },
   "outputs": [
    {
     "name": "stdout",
     "output_type": "stream",
     "text": [
      "[(1, 2), (1, 3), (1, 4), (2, 3), (2, 4), (3, 4)]\n"
     ]
    }
   ],
   "source": [
    "# 3.From a given list, return n length sub sequences.\n",
    "a = [1,2,3,4]\n",
    "print list(combinations(a,2)) # prints [(1, 2), (1, 3), (1, 4), (2, 3), (2, 4), (3, 4)]"
   ]
  },
  {
   "cell_type": "code",
   "execution_count": 5,
   "metadata": {
    "collapsed": false
   },
   "outputs": [
    {
     "name": "stdout",
     "output_type": "stream",
     "text": [
      "(1, 0)\n",
      "(2, 1)\n",
      "(3, 2)\n",
      "(4, 3)\n",
      "(5, 4)\n"
     ]
    }
   ],
   "source": [
    "# 4.A counter which produces infinite consequent integers, given a start integer,\n",
    "a = range(5)\n",
    "b = izip(count(1),a)\n",
    "for element in b:    \n",
    "    print element"
   ]
  },
  {
   "cell_type": "code",
   "execution_count": 55,
   "metadata": {
    "collapsed": false
   },
   "outputs": [
    {
     "name": "stdout",
     "output_type": "stream",
     "text": [
      "[0, 2, 4, 6, 8, 10, 12, 14, 16, 18, 20, 22, 24, 26, 28, 30, 32, 34, 36, 38, 40, 42, 44, 46, 48, 50, 52, 54, 56, 58, 60, 62, 64, 66, 68, 70, 72, 74, 76, 78, 80, 82, 84, 86, 88, 90, 92, 94, 96, 98]\n"
     ]
    }
   ],
   "source": [
    "# 5.Extract an iterator from another iterator, \n",
    "# let us say we want an iterator which only returns every \n",
    "# alternate elements from the input iterator\n",
    "a = range(100)\n",
    "b = islice(a,0,100,2)\n",
    "print list(b)"
   ]
  },
  {
   "cell_type": "code",
   "execution_count": null,
   "metadata": {
    "collapsed": false
   },
   "outputs": [],
   "source": []
  },
  {
   "cell_type": "code",
   "execution_count": null,
   "metadata": {
    "collapsed": true
   },
   "outputs": [],
   "source": []
  },
  {
   "cell_type": "code",
   "execution_count": null,
   "metadata": {
    "collapsed": true
   },
   "outputs": [],
   "source": []
  }
 ],
 "metadata": {
  "kernelspec": {
   "display_name": "Python 2",
   "language": "python",
   "name": "python2"
  },
  "language_info": {
   "codemirror_mode": {
    "name": "ipython",
    "version": 2
   },
   "file_extension": ".py",
   "mimetype": "text/x-python",
   "name": "python",
   "nbconvert_exporter": "python",
   "pygments_lexer": "ipython2",
   "version": "2.7.11"
  }
 },
 "nbformat": 4,
 "nbformat_minor": 2
}
