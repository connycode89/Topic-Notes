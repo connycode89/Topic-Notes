{
 "cells": [
  {
   "cell_type": "markdown",
   "metadata": {},
   "source": [
    "### Using Dictionary Objects"
   ]
  },
  {
   "cell_type": "markdown",
   "metadata": {},
   "source": [
    "Containers are objects that can hold any number of arbitrary objects."
   ]
  },
  {
   "cell_type": "code",
   "execution_count": 1,
   "metadata": {
    "collapsed": true
   },
   "outputs": [],
   "source": [
    "# 1.Load a variable with sentences\n",
    "sentence = \"Peter Piper picked a peck of pickled peppers A peck of pickled\\\n",
    "peppers Peter Piper picked If Peter Piper picked a peck of pickled\\\n",
    "peppers Wheres the peck of pickled peppers Peter Piper picked\""
   ]
  },
  {
   "cell_type": "code",
   "execution_count": 2,
   "metadata": {
    "collapsed": true
   },
   "outputs": [],
   "source": [
    "# 2.Initialize a dictionary object\n",
    "word_dict = {}"
   ]
  },
  {
   "cell_type": "code",
   "execution_count": 3,
   "metadata": {
    "collapsed": true
   },
   "outputs": [],
   "source": [
    "# 3.Perform the word count\n",
    "for word in sentence.split():    \n",
    "    if word not in word_dict:        \n",
    "        word_dict[word] = 1    \n",
    "    else:          \n",
    "        word_dict[word]+=1"
   ]
  },
  {
   "cell_type": "code",
   "execution_count": 4,
   "metadata": {},
   "outputs": [
    {
     "name": "stdout",
     "output_type": "stream",
     "text": [
      "{'a': 2, 'A': 1, 'Peter': 4, 'of': 4, 'Piper': 4, 'pickled': 2, 'pickledpeppers': 2, 'picked': 4, 'peppers': 2, 'the': 1, 'peck': 4, 'Wheres': 1, 'If': 1}\n"
     ]
    }
   ],
   "source": [
    "# 4.print the output\n",
    "print (word_dict)"
   ]
  },
  {
   "cell_type": "markdown",
   "metadata": {},
   "source": [
    "Rewriting using a default dict"
   ]
  },
  {
   "cell_type": "code",
   "execution_count": 5,
   "metadata": {},
   "outputs": [],
   "source": [
    "del word_dict\n",
    "word_dict = {}\n",
    "for word in sentence.split():\n",
    "    word_dict.setdefault(word,0)\n",
    "    word_dict[word]+=1"
   ]
  },
  {
   "cell_type": "code",
   "execution_count": 6,
   "metadata": {},
   "outputs": [
    {
     "name": "stdout",
     "output_type": "stream",
     "text": [
      "{'a': 2, 'A': 1, 'Peter': 4, 'of': 4, 'Piper': 4, 'pickled': 2, 'pickledpeppers': 2, 'picked': 4, 'peppers': 2, 'the': 1, 'peck': 4, 'Wheres': 1, 'If': 1}\n"
     ]
    }
   ],
   "source": [
    "print (word_dict)"
   ]
  },
  {
   "cell_type": "markdown",
   "metadata": {},
   "source": [
    "Can use the defaultdict class instead"
   ]
  },
  {
   "cell_type": "code",
   "execution_count": 7,
   "metadata": {
    "collapsed": true
   },
   "outputs": [],
   "source": [
    "from collections import defaultdict"
   ]
  },
  {
   "cell_type": "code",
   "execution_count": 8,
   "metadata": {},
   "outputs": [
    {
     "name": "stdout",
     "output_type": "stream",
     "text": [
      "defaultdict(<type 'int'>, {'a': 2, 'A': 1, 'Peter': 4, 'of': 4, 'Piper': 4, 'pickled': 2, 'pickledpeppers': 2, 'picked': 4, 'peppers': 2, 'the': 1, 'peck': 4, 'Wheres': 1, 'If': 1})\n"
     ]
    }
   ],
   "source": [
    "word_dict = defaultdict(int)\n",
    "for word in sentence.split():    \n",
    "    word_dict[word]+=1\n",
    "print word_dict"
   ]
  },
  {
   "cell_type": "markdown",
   "metadata": {},
   "source": [
    "Loop through keys and values of a dict"
   ]
  },
  {
   "cell_type": "code",
   "execution_count": 10,
   "metadata": {},
   "outputs": [
    {
     "name": "stdout",
     "output_type": "stream",
     "text": [
      "a 2\n",
      "A 1\n",
      "Peter 4\n",
      "of 4\n",
      "Piper 4\n",
      "pickled 2\n",
      "pickledpeppers 2\n",
      "picked 4\n",
      "peppers 2\n",
      "the 1\n",
      "peck 4\n",
      "Wheres 1\n",
      "If 1\n"
     ]
    }
   ],
   "source": [
    "for key, value in word_dict.items():\n",
    "    print key,value"
   ]
  },
  {
   "cell_type": "markdown",
   "metadata": {},
   "source": [
    "Another option is the Counter function"
   ]
  },
  {
   "cell_type": "code",
   "execution_count": 11,
   "metadata": {
    "collapsed": true
   },
   "outputs": [],
   "source": [
    "from collections import Counter"
   ]
  },
  {
   "cell_type": "code",
   "execution_count": 14,
   "metadata": {},
   "outputs": [
    {
     "name": "stdout",
     "output_type": "stream",
     "text": [
      "Counter({'Peter': 4, 'of': 4, 'Piper': 4, 'picked': 4, 'peck': 4, 'a': 2, 'pickled': 2, 'pickledpeppers': 2, 'peppers': 2, 'A': 1, 'the': 1, 'Wheres': 1, 'If': 1})\n",
      "defaultdict(<type 'int'>, {'a': 2, 'A': 1, 'Peter': 4, 'of': 4, 'Piper': 4, 'pickled': 2, 'pickledpeppers': 2, 'picked': 4, 'peppers': 2, 'the': 1, 'peck': 4, 'Wheres': 1, 'If': 1})\n"
     ]
    }
   ],
   "source": [
    "words = sentence.split()\n",
    "word_count = Counter(words)\n",
    "print word_count\n",
    "print word_dict  "
   ]
  },
  {
   "cell_type": "markdown",
   "metadata": {},
   "source": [
    "### Working with a dictionary of dictionaries"
   ]
  },
  {
   "cell_type": "markdown",
   "metadata": {},
   "source": [
    "User movie ratings data"
   ]
  },
  {
   "cell_type": "code",
   "execution_count": 15,
   "metadata": {},
   "outputs": [
    {
     "name": "stdout",
     "output_type": "stream",
     "text": [
      "defaultdict(<function <lambda> at 0x0000000003ABBF28>, {'Alice': defaultdict(<type 'int'>, {'SW1': 5, 'SW2': 3, 'LOR1': 4, 'LOR3': 3, 'LOR2': 5})})\n"
     ]
    }
   ],
   "source": [
    "from collections import defaultdict\n",
    "user_movie_rating = defaultdict(lambda :defaultdict(int))\n",
    "# Initialize ratings for Alice\n",
    "user_movie_rating[\"Alice\"][\"LOR1\"] =  4\n",
    "user_movie_rating[\"Alice\"][\"LOR2\"] =  5\n",
    "user_movie_rating[\"Alice\"][\"LOR3\"] =  3\n",
    "user_movie_rating[\"Alice\"][\"SW1\"]  =  5\n",
    "user_movie_rating[\"Alice\"][\"SW2\"]  =  3\n",
    "print user_movie_rating"
   ]
  },
  {
   "cell_type": "markdown",
   "metadata": {},
   "source": [
    "### Working with tuples"
   ]
  },
  {
   "cell_type": "code",
   "execution_count": 16,
   "metadata": {
    "collapsed": true
   },
   "outputs": [],
   "source": [
    "# 1.Ways of creating a tuple\n",
    "a_tuple = (1,2,'a')\n",
    "b_tuple =1,2,'c'"
   ]
  },
  {
   "cell_type": "code",
   "execution_count": 17,
   "metadata": {},
   "outputs": [
    {
     "name": "stdout",
     "output_type": "stream",
     "text": [
      "1\n",
      "c\n"
     ]
    }
   ],
   "source": [
    "# 2.Accessing elements of a tuple through index\n",
    "print b_tuple[0]\n",
    "print b_tuple[-1]"
   ]
  },
  {
   "cell_type": "code",
   "execution_count": 18,
   "metadata": {},
   "outputs": [
    {
     "name": "stdout",
     "output_type": "stream",
     "text": [
      "Cannot change value of tuple by index\n"
     ]
    }
   ],
   "source": [
    "# 3.It is not possible to change the value of an item in a tuple,\n",
    "# for example the next statement will result in an error.\n",
    "try:    \n",
    "    b_tuple[0] = 20\n",
    "except:    \n",
    "    print \"Cannot change value of tuple by index\"   "
   ]
  },
  {
   "cell_type": "code",
   "execution_count": 19,
   "metadata": {
    "collapsed": true
   },
   "outputs": [],
   "source": [
    "# 4.Though tuples are immutable\n",
    "# But elements of a tuple can be mutable objects,\n",
    "# for instance a list, as in the following line of code\n",
    "c_tuple =(1,2,[10,20,30])\n",
    "c_tuple[2][0] = 100"
   ]
  },
  {
   "cell_type": "code",
   "execution_count": 20,
   "metadata": {},
   "outputs": [
    {
     "data": {
      "text/plain": [
       "(1, 2, [100, 20, 30])"
      ]
     },
     "execution_count": 20,
     "metadata": {},
     "output_type": "execute_result"
    }
   ],
   "source": [
    "c_tuple"
   ]
  },
  {
   "cell_type": "code",
   "execution_count": 21,
   "metadata": {},
   "outputs": [
    {
     "name": "stdout",
     "output_type": "stream",
     "text": [
      "(1, 2, 'a', 1, 2, 'c')\n"
     ]
    }
   ],
   "source": [
    "# 5.Tuples once created cannot be extended like list, \n",
    "# however two tuples can be concatenated.\n",
    "print a_tuple + b_tuple"
   ]
  },
  {
   "cell_type": "code",
   "execution_count": 22,
   "metadata": {},
   "outputs": [
    {
     "name": "stdout",
     "output_type": "stream",
     "text": [
      "(2, 3, 4, 5, 6, 7, 8, 9, 10)\n",
      "(2, 3)\n",
      "(2, 4, 6)\n",
      "(1, 2, 3, 4, 5, 6, 7, 8, 9)\n"
     ]
    }
   ],
   "source": [
    "# 6 Slicing of tuples\n",
    "a =(1,2,3,4,5,6,7,8,9,10)\n",
    "print a[1:]\n",
    "print a[1:3]\n",
    "print a[1:6:2]\n",
    "print a[:-1]"
   ]
  },
  {
   "cell_type": "code",
   "execution_count": 23,
   "metadata": {},
   "outputs": [
    {
     "name": "stdout",
     "output_type": "stream",
     "text": [
      "1 10\n"
     ]
    }
   ],
   "source": [
    "# 7.Tuple min max\n",
    "print min(a),max(a)"
   ]
  },
  {
   "cell_type": "code",
   "execution_count": 24,
   "metadata": {},
   "outputs": [
    {
     "name": "stdout",
     "output_type": "stream",
     "text": [
      "Element 1 is available in tuple a\n"
     ]
    }
   ],
   "source": [
    "# 8.in and not in\n",
    "if 1 in a:    \n",
    "    print \"Element 1 is available in tuple a\"\n",
    "else:\n",
    "    print \"Element 1 is available in tuple a\""
   ]
  },
  {
   "cell_type": "markdown",
   "metadata": {},
   "source": [
    "Tuples are immutable"
   ]
  },
  {
   "cell_type": "code",
   "execution_count": 25,
   "metadata": {},
   "outputs": [
    {
     "name": "stdout",
     "output_type": "stream",
     "text": [
      "(10, 9, 8, 7, 6, 5, 4, 3, 2, 1)\n"
     ]
    }
   ],
   "source": [
    "print a[::-1]"
   ]
  },
  {
   "cell_type": "markdown",
   "metadata": {},
   "source": [
    "namedtuple"
   ]
  },
  {
   "cell_type": "code",
   "execution_count": 27,
   "metadata": {},
   "outputs": [
    {
     "name": "stdout",
     "output_type": "stream",
     "text": [
      "Manhattan distance between vectors = 1\n"
     ]
    }
   ],
   "source": [
    "from collections import namedtuple\n",
    "\n",
    "vector = namedtuple(\"Dimension\",'x y z')\n",
    "vec_1 = vector(1,1,1)\n",
    "vec_2 = vector(1,0,1)\n",
    "manhattan_distance = abs(vec_1.x - vec_2.x) + abs(vec_1.y - vec_2.y)+ abs(vec_1.z - vec_2.z)\n",
    "print \"Manhattan distance between vectors = %d\"%(manhattan_distance)"
   ]
  },
  {
   "cell_type": "markdown",
   "metadata": {
    "collapsed": true
   },
   "source": [
    "### Using sets"
   ]
  },
  {
   "cell_type": "code",
   "execution_count": 1,
   "metadata": {
    "collapsed": true
   },
   "outputs": [],
   "source": [
    "# 1.Initialize two sentences.\n",
    "st_1 = \"dogs chase cats\"\n",
    "st_2 = \"dogs hate cats\""
   ]
  },
  {
   "cell_type": "code",
   "execution_count": 2,
   "metadata": {
    "collapsed": true
   },
   "outputs": [],
   "source": [
    "# 2.Create set of words from strings\n",
    "st_1_wrds = set(st_1.split())\n",
    "st_2_wrds = set(st_2.split())"
   ]
  },
  {
   "cell_type": "code",
   "execution_count": 3,
   "metadata": {
    "collapsed": true
   },
   "outputs": [],
   "source": [
    "# 3.Find out the number of unique words in each set, vocabulary size.\n",
    "no_wrds_st_1 = len(st_1_wrds)\n",
    "no_wrds_st_2 = len(st_2_wrds)"
   ]
  },
  {
   "cell_type": "code",
   "execution_count": 4,
   "metadata": {
    "collapsed": true
   },
   "outputs": [],
   "source": [
    "# 4.Find out the list of common words between the two sets.\n",
    "# Also find out the count of common words.\n",
    "cmn_wrds = st_1_wrds.intersection(st_2_wrds)\n",
    "no_cmn_wrds = len(st_1_wrds.intersection(st_2_wrds))"
   ]
  },
  {
   "cell_type": "code",
   "execution_count": 5,
   "metadata": {
    "collapsed": true
   },
   "outputs": [],
   "source": [
    "# 5.Get a list of unique words between the two sets.\n",
    "# Also find out the count of unique words.\n",
    "unq_wrds = st_1_wrds.union(st_2_wrds)\n",
    "no_unq_wrds = len(st_1_wrds.union(st_2_wrds))"
   ]
  },
  {
   "cell_type": "code",
   "execution_count": 6,
   "metadata": {
    "collapsed": true
   },
   "outputs": [],
   "source": [
    "# 6.Calculate Jaccard similarity \n",
    "similarity = no_cmn_wrds / (1.0 * no_unq_wrds)"
   ]
  },
  {
   "cell_type": "code",
   "execution_count": 7,
   "metadata": {},
   "outputs": [
    {
     "name": "stdout",
     "output_type": "stream",
     "text": [
      "No words in sent_1 = 3\n",
      "Sentence 1 words = set(['cats', 'dogs', 'chase'])\n",
      "No words in sent_2 = 3\n",
      "Sentence 2 words = set(['cats', 'hate', 'dogs'])\n",
      "No words in common = 2\n",
      "Common words = set(['cats', 'dogs'])\n",
      "Total unique words = 4\n",
      "Unique words= set(['cats', 'hate', 'dogs', 'chase'])\n",
      "Similarity = No words in common/No unique words, 2/4 = 0.50\n"
     ]
    }
   ],
   "source": [
    "# 7.Let us now print to grasp our output.\n",
    "print \"No words in sent_1 = %d\"%(no_wrds_st_1)\n",
    "print \"Sentence 1 words =\", st_1_wrds\n",
    "print \"No words in sent_2 = %d\"%(no_wrds_st_2)\n",
    "print \"Sentence 2 words =\", st_2_wrds\n",
    "print \"No words in common = %d\"%(no_cmn_wrds)\n",
    "print \"Common words =\", cmn_wrds\n",
    "print \"Total unique words = %d\"%(no_unq_wrds)\n",
    "print \"Unique words=\",unq_wrds\n",
    "print \"Similarity = No words in common/No unique words, %d/%d = %.2f\"%(no_cmn_wrds,no_unq_wrds,similarity)"
   ]
  },
  {
   "cell_type": "code",
   "execution_count": 8,
   "metadata": {},
   "outputs": [
    {
     "data": {
      "text/plain": [
       "{1, 2}"
      ]
     },
     "execution_count": 8,
     "metadata": {},
     "output_type": "execute_result"
    }
   ],
   "source": [
    "a =(1,2,1)\n",
    "set(a)"
   ]
  },
  {
   "cell_type": "code",
   "execution_count": 9,
   "metadata": {},
   "outputs": [
    {
     "data": {
      "text/plain": [
       "{1, 2}"
      ]
     },
     "execution_count": 9,
     "metadata": {},
     "output_type": "execute_result"
    }
   ],
   "source": [
    "b =[1,2,1]\n",
    "set(b)"
   ]
  },
  {
   "cell_type": "markdown",
   "metadata": {},
   "source": [
    "Use sklearn library instead"
   ]
  },
  {
   "cell_type": "code",
   "execution_count": 11,
   "metadata": {
    "collapsed": true
   },
   "outputs": [],
   "source": [
    "# Load libraries\n",
    "from sklearn.metrics import jaccard_similarity_score\n",
    "# 1.Initialize two sentences.\n",
    "st_1 = \"dogs chase cats\"\n",
    "st_2 = \"dogs hate cats\""
   ]
  },
  {
   "cell_type": "code",
   "execution_count": 14,
   "metadata": {},
   "outputs": [
    {
     "name": "stdout",
     "output_type": "stream",
     "text": [
      "[1, 0, 1, 1]\n",
      "[1, 1, 1, 0]\n",
      "0.5\n"
     ]
    }
   ],
   "source": [
    "# 2.Create set of words from strings\n",
    "st_1_wrds = set(st_1.split())\n",
    "st_2_wrds = set(st_2.split())\n",
    "unq_wrds = st_1_wrds.union(st_2_wrds)\n",
    "a  = [ 1 if w in st_1_wrds else 0 for w in unq_wrds ]\n",
    "b  = [ 1 if w in st_2_wrds else 0 for w in unq_wrds]\n",
    "print a\n",
    "print b\n",
    "print jaccard_similarity_score(a,b)"
   ]
  },
  {
   "cell_type": "markdown",
   "metadata": {},
   "source": [
    "### Writing a list"
   ]
  },
  {
   "cell_type": "code",
   "execution_count": 15,
   "metadata": {},
   "outputs": [
    {
     "name": "stdout",
     "output_type": "stream",
     "text": [
      "[1, 2, 3, 4, 5, 6, 7, 8, 9]\n",
      "['a', 'b', 'c']\n"
     ]
    }
   ],
   "source": [
    "# 1.Let us look at a quick example of list creation. \n",
    "a = range(1,10)\n",
    "print a\n",
    "b = [\"a\",\"b\",\"c\"]\n",
    "print b"
   ]
  },
  {
   "cell_type": "code",
   "execution_count": 16,
   "metadata": {},
   "outputs": [
    {
     "name": "stdout",
     "output_type": "stream",
     "text": [
      "1\n"
     ]
    }
   ],
   "source": [
    "# 2.List can be accessed through indexing. Indexing starts at 0.\n",
    "print a[0]"
   ]
  },
  {
   "cell_type": "code",
   "execution_count": 17,
   "metadata": {},
   "outputs": [
    {
     "data": {
      "text/plain": [
       "9"
      ]
     },
     "execution_count": 17,
     "metadata": {},
     "output_type": "execute_result"
    }
   ],
   "source": [
    "# 3.With negative indexing the elements of a list are accessed from backwards.\n",
    "a[-1]"
   ]
  },
  {
   "cell_type": "code",
   "execution_count": 18,
   "metadata": {},
   "outputs": [
    {
     "name": "stdout",
     "output_type": "stream",
     "text": [
      "[2, 3]\n",
      "[2, 3, 4, 5, 6, 7, 8, 9]\n",
      "[9]\n",
      "[1, 2, 3, 4, 5, 6, 7, 8]\n"
     ]
    }
   ],
   "source": [
    "# 4.Slicing is accessing a subset of list by providing two indices.\n",
    "print a[1:3]  # prints [2, 3]\n",
    "print a[1:]   # prints [2, 3, 4, 5, 6, 7, 8, 9]\n",
    "print a[-1:]  # prints [9]\n",
    "print a[:-1]  # prints [1, 2, 3, 4, 5, 6, 7, 8]"
   ]
  },
  {
   "cell_type": "code",
   "execution_count": 19,
   "metadata": {},
   "outputs": [
    {
     "name": "stdout",
     "output_type": "stream",
     "text": [
      "[1, 2, 3, 4]\n"
     ]
    }
   ],
   "source": [
    "#5.List concatenation\n",
    "a = [1,2]\n",
    "b = [3,4]\n",
    "print a + b # prints [1, 2, 3, 4]"
   ]
  },
  {
   "cell_type": "code",
   "execution_count": 20,
   "metadata": {},
   "outputs": [
    {
     "name": "stdout",
     "output_type": "stream",
     "text": [
      "1 2\n"
     ]
    }
   ],
   "source": [
    "# 6.List  min max\n",
    "print min(a),max(a)"
   ]
  },
  {
   "cell_type": "code",
   "execution_count": 21,
   "metadata": {},
   "outputs": [
    {
     "name": "stdout",
     "output_type": "stream",
     "text": [
      "Element 1 is available in list a\n"
     ]
    }
   ],
   "source": [
    "# 7.in and not in\n",
    "if 1 in a:    \n",
    "    print \"Element 1 is available in list a\"\n",
    "else:    \n",
    "    print \"Element 1 is available in tuple a\""
   ]
  },
  {
   "cell_type": "code",
   "execution_count": 22,
   "metadata": {},
   "outputs": [
    {
     "name": "stdout",
     "output_type": "stream",
     "text": [
      "[1, 2, 3, 4, 5, 6, 7, 8, 9]\n",
      "[1, 2, 3, 4, 5, 6, 7, 8, 9, 10]\n"
     ]
    }
   ],
   "source": [
    "# 8. Appending and extending list\n",
    "a = range(1,10)\n",
    "print a\n",
    "a.append(10)\n",
    "print a"
   ]
  },
  {
   "cell_type": "code",
   "execution_count": 23,
   "metadata": {},
   "outputs": [
    {
     "name": "stdout",
     "output_type": "stream",
     "text": [
      "3\n",
      "2\n",
      "1\n"
     ]
    }
   ],
   "source": [
    "# 9.List as a stack\n",
    "a_stack = []\n",
    "a_stack.append(1)\n",
    "a_stack.append(2)\n",
    "a_stack.append(3)\n",
    "print a_stack.pop()\n",
    "print a_stack.pop()\n",
    "print a_stack.pop()"
   ]
  },
  {
   "cell_type": "code",
   "execution_count": 24,
   "metadata": {},
   "outputs": [
    {
     "name": "stdout",
     "output_type": "stream",
     "text": [
      "1\n",
      "2\n",
      "3\n"
     ]
    }
   ],
   "source": [
    "# 10.List as queue\n",
    "a_queue = []\n",
    "a_queue.append(1)\n",
    "a_queue.append(2)\n",
    "a_queue.append(3)\n",
    "print a_queue.pop(0)\n",
    "print a_queue.pop(0)\n",
    "print a_queue.pop(0)"
   ]
  },
  {
   "cell_type": "code",
   "execution_count": 26,
   "metadata": {},
   "outputs": [
    {
     "name": "stdout",
     "output_type": "stream",
     "text": [
      "[19, 15, 7, 4, 12, 17, 1, 9, 13, 11, 6, 3, 5, 16, 18, 2, 10, 8, 14]\n",
      "[1, 2, 3, 4, 5, 6, 7, 8, 9, 10, 11, 12, 13, 14, 15, 16, 17, 18, 19]\n",
      "[19, 18, 17, 16, 15, 14, 13, 12, 11, 10, 9, 8, 7, 6, 5, 4, 3, 2, 1]\n"
     ]
    }
   ],
   "source": [
    "# 11.List sort and reverse\n",
    "from random import shuffle\n",
    "a = range(1,20)\n",
    "shuffle(a)\n",
    "print a\n",
    "a.sort()\n",
    "print a\n",
    "a.reverse()\n",
    "print a"
   ]
  },
  {
   "cell_type": "code",
   "execution_count": null,
   "metadata": {
    "collapsed": true
   },
   "outputs": [],
   "source": []
  }
 ],
 "metadata": {
  "kernelspec": {
   "display_name": "Python 2",
   "language": "python",
   "name": "python2"
  },
  "language_info": {
   "codemirror_mode": {
    "name": "ipython",
    "version": 2
   },
   "file_extension": ".py",
   "mimetype": "text/x-python",
   "name": "python",
   "nbconvert_exporter": "python",
   "pygments_lexer": "ipython2",
   "version": "2.7.13"
  }
 },
 "nbformat": 4,
 "nbformat_minor": 2
}
