{
 "cells": [
  {
   "cell_type": "markdown",
   "metadata": {},
   "source": [
    "#### 2 Building Blocks of Linear Algebra"
   ]
  },
  {
   "cell_type": "markdown",
   "metadata": {},
   "source": [
    "Matrix: $$\\begin{bmatrix}\n",
    "    4 & 2 & 3 \\\\\n",
    "    3 & 4 & 5\n",
    "  \\end{bmatrix}$$"
   ]
  },
  {
   "cell_type": "markdown",
   "metadata": {},
   "source": [
    "Vector: $$\\begin{bmatrix}\n",
    "    4 \\\\\n",
    "    3 \\\\\n",
    "    2\n",
    "  \\end{bmatrix}$$"
   ]
  },
  {
   "cell_type": "markdown",
   "metadata": {},
   "source": [
    "#### Linear Equation: Example"
   ]
  },
  {
   "cell_type": "markdown",
   "metadata": {},
   "source": [
    "$$ -3x+7y = 21 $$"
   ]
  },
  {
   "cell_type": "markdown",
   "metadata": {},
   "source": [
    "This is a line crossing the axes at (-7,0) and (0,3)"
   ]
  },
  {
   "cell_type": "markdown",
   "metadata": {},
   "source": [
    "#### Linear Equation: General Forms"
   ]
  },
  {
   "cell_type": "markdown",
   "metadata": {},
   "source": [
    "$$ a_1x_1+a_2x_2+a_3x_3+...+a_nx_n = b $$ or: $$ \\sum_{j=1}^n a_jx_j = b $$ for n variables"
   ]
  },
  {
   "cell_type": "markdown",
   "metadata": {},
   "source": [
    "#### Systems of Linear Equations"
   ]
  },
  {
   "cell_type": "markdown",
   "metadata": {},
   "source": [
    "m linear equations with n variables:\n",
    "$$ a_{i1}x_1+a_{i2}x_2+a_{i3}x_3+...+a_{in}x_n = b_i$$\n",
    "$$ (1 \\leq i<m) $$"
   ]
  },
  {
   "cell_type": "markdown",
   "metadata": {},
   "source": [
    "$$ \\sum_{j=1}^n a_{ij}x_j = b_i $$\n",
    "$$ (1 \\leq i<m) $$"
   ]
  },
  {
   "cell_type": "markdown",
   "metadata": {},
   "source": [
    "A system of equations is **consistent** if it has at least one solution, and **inconsistent** if it has no solution."
   ]
  },
  {
   "cell_type": "markdown",
   "metadata": {},
   "source": [
    "#### Example: System of 4 Equations in 3 Unknowns"
   ]
  },
  {
   "cell_type": "markdown",
   "metadata": {},
   "source": [
    "\\begin{cases}\n",
    "3x_1-2x_2+5x_3 = 7\\\\\n",
    "x_1+4x_2-3x_3 = 7\\\\\n",
    "6x_1-4x_2+2x_3 = -2\\\\\n",
    "x_1+2x_2+x_3 = 9\n",
    "\\end{cases}"
   ]
  },
  {
   "cell_type": "markdown",
   "metadata": {},
   "source": [
    "The solution is: $$ x_1 = 1, x_2 = 3, x_3 = 2 $$\n",
    "This can be checked by substituting the values back into the 4 equations."
   ]
  },
  {
   "cell_type": "markdown",
   "metadata": {},
   "source": [
    "#### General Systems of Linear Equations"
   ]
  },
  {
   "cell_type": "markdown",
   "metadata": {},
   "source": [
    "\\begin{cases}\n",
    "a_{11}x_1+a_{12}x_2+...+a_{1n}x_n = b_1\\\\\n",
    "a_{21}x_1+a_{22}x_2+...+a_{1n}x_n = b_2\\\\\n",
    "\\hspace{3cm}\\vdots\\hspace{1.5cm}\\vdots\\\\\n",
    "a_{m1}x_1+a_{m2}x_2+...+a_{mn}x_n = b_m\n",
    "\\end{cases}"
   ]
  },
  {
   "cell_type": "markdown",
   "metadata": {},
   "source": [
    "We must find the values of the variables, ${x_1}, {x_2}, ..., {x_n}$ that make all these equations true"
   ]
  },
  {
   "cell_type": "markdown",
   "metadata": {},
   "source": [
    "The equations can be represented as matrices as follows."
   ]
  },
  {
   "cell_type": "markdown",
   "metadata": {},
   "source": [
    "Coefficient matrix: $A = \\begin{bmatrix}\n",
    "    a_{11} & a_{12} & ... & a_{1n} \\\\\n",
    "    a_{21} & a_{22} & ... & a_{2n} \\\\\n",
    "    \\vdots & \\vdots & \\ddots & \\vdots \\\\\n",
    "    a_{m1} & a_{m2} & ... & a_{mn}\n",
    "  \\end{bmatrix}$"
   ]
  },
  {
   "cell_type": "markdown",
   "metadata": {},
   "source": [
    "Vector of unknowns: $x = \\begin{bmatrix}\n",
    "    x_1 \\\\\n",
    "    x_2 \\\\\n",
    "    \\vdots \\\\\n",
    "    x_n\n",
    "  \\end{bmatrix}$"
   ]
  },
  {
   "cell_type": "markdown",
   "metadata": {},
   "source": [
    "Righthand-side vector: $b = \\begin{bmatrix}\n",
    "    b_1 \\\\\n",
    "    b_2 \\\\\n",
    "    \\vdots \\\\\n",
    "    b_m\n",
    "  \\end{bmatrix}$"
   ]
  },
  {
   "cell_type": "markdown",
   "metadata": {},
   "source": [
    "Augmented matrix: $[A\\vert b] = \\left(\\begin{array}{cccc|c}\n",
    "    a_{11} & a_{12} & ... & a_{1n} & b_1 \\\\\n",
    "    a_{21} & a_{22} & ... & a_{2n} & b_2 \\\\\n",
    "    \\vdots & \\vdots & \\ddots & \\vdots & \\vdots \\\\\n",
    "    a_{m1} & a_{m2} & ... & a_{mn} & b_m\n",
    "  \\end{array}\\right)$"
   ]
  },
  {
   "cell_type": "markdown",
   "metadata": {},
   "source": [
    "So, the whole system is the following:"
   ]
  },
  {
   "cell_type": "markdown",
   "metadata": {},
   "source": [
    "$$ Ax = b $$"
   ]
  },
  {
   "cell_type": "markdown",
   "metadata": {},
   "source": [
    "**Conventions:** <br>\n",
    "$ m\\times n $ matrix = matrix with m rows, n columns  <br>\n",
    "$ a_{ij} $ in a matrix A is the number in the i-th row, j-th column"
   ]
  },
  {
   "cell_type": "markdown",
   "metadata": {},
   "source": [
    "#### Gaussian Elimination"
   ]
  },
  {
   "cell_type": "markdown",
   "metadata": {},
   "source": [
    "Algorithm for finding the solution to a system of linear equations"
   ]
  },
  {
   "cell_type": "markdown",
   "metadata": {},
   "source": [
    "**Replacement operation:** "
   ]
  },
  {
   "cell_type": "markdown",
   "metadata": {},
   "source": [
    "Adding a multiple of one equation to another. This is the main operation in Gaussian Elimination."
   ]
  },
  {
   "cell_type": "markdown",
   "metadata": {},
   "source": [
    "**Scale operation:**"
   ]
  },
  {
   "cell_type": "markdown",
   "metadata": {},
   "source": [
    "Multiplying/dividing across an equation by a certain value - in Gaussian Elimination, it's usually to reduce the variable coefficients to 1."
   ]
  },
  {
   "cell_type": "markdown",
   "metadata": {},
   "source": [
    "#### Example: Gaussian Elimination"
   ]
  },
  {
   "cell_type": "markdown",
   "metadata": {},
   "source": [
    "\\begin{cases}\n",
    "3x_1+2x_2 = 4\\\\\n",
    "9x_1+7x_2 = 17\n",
    "\\end{cases}"
   ]
  },
  {
   "cell_type": "markdown",
   "metadata": {},
   "source": [
    "Add -3 times Equation 1 to Equation 2:\n",
    "\\begin{cases}\n",
    "3x_1+2x_2 = 4\\\\\n",
    "0x_1+x_2 = 5\n",
    "\\end{cases}"
   ]
  },
  {
   "cell_type": "markdown",
   "metadata": {},
   "source": [
    "Add -2 times Equation 2 to Equation 1:\n",
    "\\begin{cases}\n",
    "3x_1+0x_2 = -6\\\\\n",
    "0x_1+x_2 = 5\n",
    "\\end{cases}"
   ]
  },
  {
   "cell_type": "markdown",
   "metadata": {},
   "source": [
    "Scale Equation 1 - Divide by 3:\n",
    "\\begin{cases}\n",
    "x_1+0x_2 = -2\\\\\n",
    "0x_1+x_2 = 5\n",
    "\\end{cases}\n",
    "The solution is now clear: $x_1 = −2$ and $x_2 = 5$"
   ]
  },
  {
   "cell_type": "markdown",
   "metadata": {},
   "source": []
  },
  {
   "cell_type": "markdown",
   "metadata": {},
   "source": []
  },
  {
   "cell_type": "markdown",
   "metadata": {},
   "source": []
  },
  {
   "cell_type": "markdown",
   "metadata": {},
   "source": []
  },
  {
   "cell_type": "markdown",
   "metadata": {},
   "source": []
  }
 ],
 "metadata": {
  "kernelspec": {
   "display_name": "Python 2",
   "language": "python",
   "name": "python2"
  },
  "language_info": {
   "codemirror_mode": {
    "name": "ipython",
    "version": 2
   },
   "file_extension": ".py",
   "mimetype": "text/x-python",
   "name": "python",
   "nbconvert_exporter": "python",
   "pygments_lexer": "ipython2",
   "version": "2.7.11"
  }
 },
 "nbformat": 4,
 "nbformat_minor": 2
}
