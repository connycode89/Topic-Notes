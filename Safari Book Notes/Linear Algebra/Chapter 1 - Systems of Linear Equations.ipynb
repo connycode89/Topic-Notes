{
 "cells": [
  {
   "cell_type": "markdown",
   "metadata": {},
   "source": [
    "#### 2 Building Blocks of Linear Algebra"
   ]
  },
  {
   "cell_type": "markdown",
   "metadata": {},
   "source": [
    "Matrix: $$\\begin{bmatrix}\n",
    "    4 & 2 & 3 \\\\\n",
    "    3 & 4 & 5\n",
    "  \\end{bmatrix}$$"
   ]
  },
  {
   "cell_type": "markdown",
   "metadata": {},
   "source": [
    "Vector: $$\\begin{bmatrix}\n",
    "    4 \\\\\n",
    "    3 \\\\\n",
    "    2\n",
    "  \\end{bmatrix}$$"
   ]
  },
  {
   "cell_type": "markdown",
   "metadata": {},
   "source": [
    "#### Linear Equation: Example"
   ]
  },
  {
   "cell_type": "markdown",
   "metadata": {},
   "source": [
    "$$ -3x+7y = 21 $$"
   ]
  },
  {
   "cell_type": "markdown",
   "metadata": {},
   "source": [
    "This is a line crossing the axes at (-7,0) and (0,3)"
   ]
  },
  {
   "cell_type": "markdown",
   "metadata": {},
   "source": [
    "#### Linear Equation: General Forms"
   ]
  },
  {
   "cell_type": "markdown",
   "metadata": {},
   "source": [
    "$$ a_1x_1+a_2x_2+a_3x_3+...+a_nx_n = b $$ or: $$ \\sum_{j=1}^n a_jx_j = b $$ for n variables"
   ]
  },
  {
   "cell_type": "markdown",
   "metadata": {},
   "source": [
    "#### Systems of Linear Equations"
   ]
  },
  {
   "cell_type": "markdown",
   "metadata": {},
   "source": [
    "m linear equations with n variables:\n",
    "$$ a_{i1}x_1+a_{i2}x_2+a_{i3}x_3+...+a_{in}x_n = b_i$$\n",
    "$$ (1 \\leq i<m) $$"
   ]
  },
  {
   "cell_type": "markdown",
   "metadata": {},
   "source": [
    "$$ \\sum_{j=1}^n a_{ij}x_j = b_i $$\n",
    "$$ (1 \\leq i<m) $$"
   ]
  },
  {
   "cell_type": "markdown",
   "metadata": {},
   "source": [
    "A system of equations is **consistent** if it has at least one solution, and **inconsistent** if it has no solution."
   ]
  },
  {
   "cell_type": "markdown",
   "metadata": {},
   "source": [
    "#### Example: System of 4 Equations in 3 Unknowns"
   ]
  },
  {
   "cell_type": "markdown",
   "metadata": {},
   "source": [
    "\\begin{cases}\n",
    "3x_1-2x_2+5x_3 = 7\\\\\n",
    "x_1+4x_2-3x_3 = 7\\\\\n",
    "6x_1-4x_2+2x_3 = -2\\\\\n",
    "x_1+2x_2+x_3 = 9\n",
    "\\end{cases}"
   ]
  },
  {
   "cell_type": "markdown",
   "metadata": {},
   "source": [
    "The solution is: $$ x_1 = 1, x_2 = 3, x_3 = 2 $$\n",
    "This can be checked by substituting the values back into the 4 equations."
   ]
  },
  {
   "cell_type": "markdown",
   "metadata": {},
   "source": [
    "#### General Systems of Linear Equations"
   ]
  },
  {
   "cell_type": "markdown",
   "metadata": {},
   "source": [
    "\\begin{cases}\n",
    "a_{11}x_1+a_{12}x_2+...+a_{1n}x_n = b_1\\\\\n",
    "a_{21}x_1+a_{22}x_2+...+a_{1n}x_n = b_2\\\\\n",
    "\\hspace{3cm}\\vdots\\hspace{1.5cm}\\vdots\\\\\n",
    "a_{m1}x_1+a_{m2}x_2+...+a_{mn}x_n = b_m\n",
    "\\end{cases}"
   ]
  },
  {
   "cell_type": "markdown",
   "metadata": {},
   "source": [
    "We must find the values of the variables, ${x_1}, {x_2}, ..., {x_n}$ that make all these equations true"
   ]
  },
  {
   "cell_type": "markdown",
   "metadata": {},
   "source": [
    "The equations can be represented as matrices as follows."
   ]
  },
  {
   "cell_type": "markdown",
   "metadata": {},
   "source": [
    "Coefficient matrix: $A = \\begin{bmatrix}\n",
    "    a_{11} & a_{12} & ... & a_{1n} \\\\\n",
    "    a_{21} & a_{22} & ... & a_{2n} \\\\\n",
    "    \\vdots & \\vdots & \\ddots & \\vdots \\\\\n",
    "    a_{m1} & a_{m2} & ... & a_{mn}\n",
    "  \\end{bmatrix}$"
   ]
  },
  {
   "cell_type": "markdown",
   "metadata": {},
   "source": [
    "Vector of unknowns: $x = \\begin{bmatrix}\n",
    "    x_1 \\\\\n",
    "    x_2 \\\\\n",
    "    \\vdots \\\\\n",
    "    x_n\n",
    "  \\end{bmatrix}$"
   ]
  },
  {
   "cell_type": "markdown",
   "metadata": {},
   "source": [
    "Righthand-side vector: $b = \\begin{bmatrix}\n",
    "    b_1 \\\\\n",
    "    b_2 \\\\\n",
    "    \\vdots \\\\\n",
    "    b_m\n",
    "  \\end{bmatrix}$"
   ]
  },
  {
   "cell_type": "markdown",
   "metadata": {},
   "source": [
    "Augmented matrix: $[A\\vert b] = \\left(\\begin{array}{cccc|c}\n",
    "    a_{11} & a_{12} & ... & a_{1n} & b_1 \\\\\n",
    "    a_{21} & a_{22} & ... & a_{2n} & b_2 \\\\\n",
    "    \\vdots & \\vdots & \\ddots & \\vdots & \\vdots \\\\\n",
    "    a_{m1} & a_{m2} & ... & a_{mn} & b_m\n",
    "  \\end{array}\\right)$"
   ]
  },
  {
   "cell_type": "markdown",
   "metadata": {},
   "source": [
    "So, the whole system is the following:"
   ]
  },
  {
   "cell_type": "markdown",
   "metadata": {},
   "source": [
    "$$ Ax = b $$"
   ]
  },
  {
   "cell_type": "markdown",
   "metadata": {},
   "source": [
    "**Conventions:** <br>\n",
    "$ m\\times n $ matrix = matrix with m rows, n columns  <br>\n",
    "$ a_{ij} $ in a matrix A is the number in the i-th row, j-th column"
   ]
  },
  {
   "cell_type": "markdown",
   "metadata": {},
   "source": [
    "#### Gaussian Elimination"
   ]
  },
  {
   "cell_type": "markdown",
   "metadata": {},
   "source": [
    "Algorithm for finding the solution to a system of linear equations"
   ]
  },
  {
   "cell_type": "markdown",
   "metadata": {},
   "source": [
    "**Replacement operation:** "
   ]
  },
  {
   "cell_type": "markdown",
   "metadata": {},
   "source": [
    "Adding a multiple of one equation to another. This is the main operation in Gaussian Elimination."
   ]
  },
  {
   "cell_type": "markdown",
   "metadata": {},
   "source": [
    "**Scale operation:**"
   ]
  },
  {
   "cell_type": "markdown",
   "metadata": {},
   "source": [
    "Multiplying/dividing across an equation by a certain value - in Gaussian Elimination, it's usually to reduce the variable coefficients to 1. We must avoid multiplying/dividing by zero."
   ]
  },
  {
   "cell_type": "markdown",
   "metadata": {},
   "source": [
    "#### Example: Gaussian Elimination"
   ]
  },
  {
   "cell_type": "markdown",
   "metadata": {},
   "source": [
    "\\begin{cases}\n",
    "3x_1+2x_2 = 4\\\\\n",
    "9x_1+7x_2 = 17\n",
    "\\end{cases}"
   ]
  },
  {
   "cell_type": "markdown",
   "metadata": {},
   "source": [
    "Add -3 times Equation 1 to Equation 2:\n",
    "\\begin{cases}\n",
    "3x_1+2x_2 = 4\\\\\n",
    "0x_1+x_2 = 5\n",
    "\\end{cases}"
   ]
  },
  {
   "cell_type": "markdown",
   "metadata": {},
   "source": [
    "Add -2 times Equation 2 to Equation 1:\n",
    "\\begin{cases}\n",
    "3x_1+0x_2 = -6\\\\\n",
    "0x_1+x_2 = 5\n",
    "\\end{cases}"
   ]
  },
  {
   "cell_type": "markdown",
   "metadata": {},
   "source": [
    "Scale Equation 1 - Divide by 3:\n",
    "\\begin{cases}\n",
    "x_1+0x_2 = -2\\\\\n",
    "0x_1+x_2 = 5\n",
    "\\end{cases}\n",
    "The solution is now clear: $x_1 = −2$ and $x_2 = 5$"
   ]
  },
  {
   "cell_type": "markdown",
   "metadata": {},
   "source": [
    "#### Row-Equivalent Pairs of Matrices"
   ]
  },
  {
   "cell_type": "markdown",
   "metadata": {},
   "source": [
    "We only need to keep track of the augmented matrices in this processx, we don't need to track the variable names or the equals signs.<br>\n",
    "Row Equivalent pairs are 2 matrices which are connected by allowable row operations and thus have the same solutions."
   ]
  },
  {
   "cell_type": "markdown",
   "metadata": {},
   "source": [
    "#### Example"
   ]
  },
  {
   "cell_type": "markdown",
   "metadata": {},
   "source": [
    "$\\left(\\begin{array}{cc|c}\n",
    "    3 & 2 & 4 \\\\\n",
    "    9 & 7 & 17\n",
    "  \\end{array}\\right) \\sim \\left(\\begin{array}{cc|c}\n",
    "    3 & 2 & 4 \\\\\n",
    "    0 & 1 & 5\n",
    "  \\end{array}\\right) \\sim \\left(\\begin{array}{cc|c}\n",
    "    3 & 0 & -6 \\\\\n",
    "    0 & 1 & 5\n",
    "  \\end{array}\\right) \\sim \\left(\\begin{array}{cc|c}\n",
    "    1 & 0 & -2 \\\\\n",
    "    0 & 1 & 5\n",
    "  \\end{array}\\right)$"
   ]
  },
  {
   "cell_type": "markdown",
   "metadata": {},
   "source": [
    "This sequence involved just the allowable Replacement and Scale operations mentioned above and all 4 systems have the same solutions."
   ]
  },
  {
   "cell_type": "markdown",
   "metadata": {},
   "source": [
    "#### Definition: Equivalence Relation"
   ]
  },
  {
   "cell_type": "markdown",
   "metadata": {},
   "source": [
    "An **equivalence relation** on a set of entities is a relation denoted by the symbol $\\star$. An equivalence relation satisfies three conditions:<br>\n",
    "**Reflexive:** $p\\star p$<br>\n",
    "**Symmetric:** If $p\\star q$ then $q\\star p$<br>\n",
    "**Transitive:** If $p\\star q$ and $q\\star r$ then $p\\star r$"
   ]
  },
  {
   "cell_type": "markdown",
   "metadata": {},
   "source": [
    "The row-equivalence operation, $\\sim$, between 2 matrices that we saw above is an example of an equivalence relation."
   ]
  },
  {
   "cell_type": "markdown",
   "metadata": {},
   "source": [
    "#### More than 1 column to the right of the vertical line in the augmented matrix"
   ]
  },
  {
   "cell_type": "markdown",
   "metadata": {},
   "source": [
    "This can happen sometimes so it's good practice to always include the vertical line."
   ]
  },
  {
   "cell_type": "markdown",
   "metadata": {},
   "source": [
    "#### An Example of This:"
   ]
  },
  {
   "cell_type": "markdown",
   "metadata": {},
   "source": [
    "If we have several systems with the same lefthand side but different righthand sides, we can use an augmented matrix to solve them simultaneously."
   ]
  },
  {
   "cell_type": "markdown",
   "metadata": {},
   "source": [
    "\\begin{cases}\n",
    "3x_1+2x_2 = 1\\\\\n",
    "9x_1+7x_2 = 0\n",
    "\\end{cases} and \n",
    "\\begin{cases}\n",
    "3x_1+2x_2 = 0\\\\\n",
    "9x_1+7x_2 = 1\n",
    "\\end{cases}"
   ]
  },
  {
   "cell_type": "markdown",
   "metadata": {},
   "source": [
    "$\\left(\\begin{array}{cc|cc}\n",
    "    3 & 2 & 1 & 0 \\\\\n",
    "    9 & 7 & 0 & 1\n",
    "  \\end{array}\\right) \\sim \\left(\\begin{array}{cc|cc}\n",
    "    3 & 2 & 1 & 0 \\\\\n",
    "    0 & 1 & -3 & 1\n",
    "  \\end{array}\\right) \\sim \\left(\\begin{array}{cc|cc}\n",
    "    3 & 0 & 7 & -2 \\\\\n",
    "    0 & 1 & -3 & 1\n",
    "  \\end{array}\\right) \\sim \\left(\\begin{array}{cc|cc}\n",
    "    1 & 0 & \\frac{7}{3} & -\\frac{2}{3} \\\\\n",
    "    0 & 1 & -3 & 1\n",
    "  \\end{array}\\right)$"
   ]
  },
  {
   "cell_type": "markdown",
   "metadata": {},
   "source": [
    "So, ultimately $x_1 = \\frac{7}{3}, x_2 = -3$ for the first system. <br>\n",
    "And $x_1 = -\\frac{2}{3}, x_2 = 1$ for the second system."
   ]
  },
  {
   "cell_type": "markdown",
   "metadata": {},
   "source": [
    "#### Row Interchange"
   ]
  },
  {
   "cell_type": "markdown",
   "metadata": {},
   "source": [
    "Another allowable row operation is simply swapping two rows of a matrix. The following sequence involving just Scaling and Replacement operations illustrates why Row Interchange is okay:"
   ]
  },
  {
   "cell_type": "markdown",
   "metadata": {},
   "source": [
    "$\\begin{bmatrix}\n",
    "    r_1 \\\\\n",
    "    r_2\n",
    "  \\end{bmatrix} \\sim\n",
    "  \\begin{bmatrix}\n",
    "    r_1 \\\\\n",
    "    r_1+r_2\n",
    "  \\end{bmatrix} \\sim\n",
    "  \\begin{bmatrix}\n",
    "    -r_2 \\\\\n",
    "    r_1+r_2\n",
    "  \\end{bmatrix} \\sim\n",
    "  \\begin{bmatrix}\n",
    "    r_2 \\\\\n",
    "    r_1+r_2\n",
    "  \\end{bmatrix} \\sim\n",
    "  \\begin{bmatrix}\n",
    "    r_2 \\\\\n",
    "    r_1\n",
    "  \\end{bmatrix}$"
   ]
  },
  {
   "cell_type": "markdown",
   "metadata": {},
   "source": [
    "We use the following notation for **Replacement**, **Scaling** and **Swapping** on rows:"
   ]
  },
  {
   "cell_type": "markdown",
   "metadata": {},
   "source": [
    "**Replacement:** $r_i\\leftarrow r_i+ar_j$ $(i\\neq j, a\\ is\\ scalar)$<br>\n",
    "**Scale:** $r_i\\leftarrow cr_i$ $(scalar\\ c\\neq 0)$<br>\n",
    "**Swap:** $r_i\\leftarrow r_i+ar_j$"
   ]
  },
  {
   "cell_type": "markdown",
   "metadata": {},
   "source": [
    "#### Reduced Row Echelon Form"
   ]
  },
  {
   "cell_type": "markdown",
   "metadata": {},
   "source": [
    "This is a special standard form for the matrix which represents the system of equations as simply as possible using the 3 row operations."
   ]
  },
  {
   "cell_type": "markdown",
   "metadata": {},
   "source": [
    "A matrix is in **reduced row echelon form** if:<br>\n",
    "1. All zero rows have been moved to the bottom of the matrix.\n",
    "2. Each nonzero row has 1 as its leading nonzero entry, using left-to-right ordering. Each such leading 1 is called a pivot.\n",
    "3. In each column containing a pivot, there are no other nonzero elements.\n",
    "4. The pivot in any row is farther to the right than the pivots in rows above."
   ]
  },
  {
   "cell_type": "markdown",
   "metadata": {},
   "source": []
  },
  {
   "cell_type": "markdown",
   "metadata": {},
   "source": []
  },
  {
   "cell_type": "markdown",
   "metadata": {},
   "source": []
  },
  {
   "cell_type": "markdown",
   "metadata": {},
   "source": []
  }
 ],
 "metadata": {
  "kernelspec": {
   "display_name": "Python 2",
   "language": "python",
   "name": "python2"
  },
  "language_info": {
   "codemirror_mode": {
    "name": "ipython",
    "version": 2
   },
   "file_extension": ".py",
   "mimetype": "text/x-python",
   "name": "python",
   "nbconvert_exporter": "python",
   "pygments_lexer": "ipython2",
   "version": "2.7.11"
  }
 },
 "nbformat": 4,
 "nbformat_minor": 2
}
